{
 "cells": [
  {
   "cell_type": "code",
   "execution_count": 23,
   "metadata": {},
   "outputs": [],
   "source": [
    "# Import necessary libraries\n",
    "import os\n",
    "import re\n",
    "import json\n",
    "import logging\n",
    "import warnings\n",
    "\n",
    "import numpy as np\n",
    "import pandas as pd\n",
    "import torch\n",
    "import torch.nn as nn\n",
    "import torch.nn.functional as F\n",
    "import matplotlib.pyplot as plt\n",
    "from torch.utils.data import Dataset, DataLoader\n",
    "from sklearn.model_selection import train_test_split\n",
    "from sentence_transformers import SentenceTransformer, util, losses, InputExample\n",
    "from sentence_transformers.evaluation import InformationRetrievalEvaluator\n",
    "from bayes_opt import BayesianOptimization\n",
    "from scipy.stats import friedmanchisquare, levene\n",
    "import scikit_posthocs as sp\n",
    "from tqdm.autonotebook import tqdm, trange\n",
    "from langchain_ollama import OllamaLLM\n",
    "from langchain.prompts import PromptTemplate\n",
    "\n",
    "# Set plotting style to cyberpunk\n",
    "import mplcyberpunk\n",
    "plt.style.use(\"cyberpunk\")\n",
    "\n",
    "# Suppress the specific FutureWarning from huggingface_hub\n",
    "warnings.filterwarnings(\"ignore\", category=FutureWarning, module=\"huggingface_hub.file_download\")\n"
   ]
  },
  {
   "cell_type": "code",
   "execution_count": 24,
   "metadata": {},
   "outputs": [
    {
     "data": {
      "text/html": [
       "<div>\n",
       "<style scoped>\n",
       "    .dataframe tbody tr th:only-of-type {\n",
       "        vertical-align: middle;\n",
       "    }\n",
       "\n",
       "    .dataframe tbody tr th {\n",
       "        vertical-align: top;\n",
       "    }\n",
       "\n",
       "    .dataframe thead th {\n",
       "        text-align: right;\n",
       "    }\n",
       "</style>\n",
       "<table border=\"1\" class=\"dataframe\">\n",
       "  <thead>\n",
       "    <tr style=\"text-align: right;\">\n",
       "      <th></th>\n",
       "      <th>Manufacturer</th>\n",
       "      <th>Probe_Model</th>\n",
       "      <th>Cartridge_Connection</th>\n",
       "      <th>Compatible_Systems</th>\n",
       "      <th>Array_Type</th>\n",
       "      <th>Applications</th>\n",
       "      <th>Min_Frequency</th>\n",
       "      <th>Max_Frequency</th>\n",
       "      <th>Stock</th>\n",
       "    </tr>\n",
       "  </thead>\n",
       "  <tbody>\n",
       "    <tr>\n",
       "      <th>0</th>\n",
       "      <td>ATL</td>\n",
       "      <td>C3</td>\n",
       "      <td>0</td>\n",
       "      <td>[HDI 5000]</td>\n",
       "      <td>convex</td>\n",
       "      <td>[abdominal, general]</td>\n",
       "      <td>3.0</td>\n",
       "      <td>3.0</td>\n",
       "      <td>0</td>\n",
       "    </tr>\n",
       "    <tr>\n",
       "      <th>1</th>\n",
       "      <td>ATL</td>\n",
       "      <td>C4-2</td>\n",
       "      <td>0</td>\n",
       "      <td>[HDI 5000]</td>\n",
       "      <td>convex</td>\n",
       "      <td>[abdominal, obstetric, gynecologic, general]</td>\n",
       "      <td>2.0</td>\n",
       "      <td>4.0</td>\n",
       "      <td>2</td>\n",
       "    </tr>\n",
       "    <tr>\n",
       "      <th>2</th>\n",
       "      <td>ATL</td>\n",
       "      <td>C5-2</td>\n",
       "      <td>0</td>\n",
       "      <td>[HDI 1500, HDI 3000, HDI 3500, HDI 5000]</td>\n",
       "      <td>convex</td>\n",
       "      <td>[abdominal, general]</td>\n",
       "      <td>2.0</td>\n",
       "      <td>5.0</td>\n",
       "      <td>7</td>\n",
       "    </tr>\n",
       "    <tr>\n",
       "      <th>3</th>\n",
       "      <td>ATL</td>\n",
       "      <td>C5-IVT</td>\n",
       "      <td>0</td>\n",
       "      <td>[UM9 HDI, HDI 1500, HDI 3000, HDI 3500, HDI 5000]</td>\n",
       "      <td>convex</td>\n",
       "      <td>[intracavitary, endovaginal, gynecological]</td>\n",
       "      <td>4.0</td>\n",
       "      <td>6.0</td>\n",
       "      <td>0</td>\n",
       "    </tr>\n",
       "    <tr>\n",
       "      <th>4</th>\n",
       "      <td>ATL</td>\n",
       "      <td>C7-4</td>\n",
       "      <td>0</td>\n",
       "      <td>[UM9 HDI, HDI 1500, HDI 3000, HDI 5000]</td>\n",
       "      <td>convex</td>\n",
       "      <td>[cardiac, vascular, general]</td>\n",
       "      <td>4.0</td>\n",
       "      <td>7.0</td>\n",
       "      <td>0</td>\n",
       "    </tr>\n",
       "  </tbody>\n",
       "</table>\n",
       "</div>"
      ],
      "text/plain": [
       "  Manufacturer Probe_Model  Cartridge_Connection  \\\n",
       "0          ATL          C3                     0   \n",
       "1          ATL        C4-2                     0   \n",
       "2          ATL        C5-2                     0   \n",
       "3          ATL      C5-IVT                     0   \n",
       "4          ATL        C7-4                     0   \n",
       "\n",
       "                                  Compatible_Systems Array_Type  \\\n",
       "0                                         [HDI 5000]     convex   \n",
       "1                                         [HDI 5000]     convex   \n",
       "2           [HDI 1500, HDI 3000, HDI 3500, HDI 5000]     convex   \n",
       "3  [UM9 HDI, HDI 1500, HDI 3000, HDI 3500, HDI 5000]     convex   \n",
       "4            [UM9 HDI, HDI 1500, HDI 3000, HDI 5000]     convex   \n",
       "\n",
       "                                   Applications  Min_Frequency  Max_Frequency  \\\n",
       "0                          [abdominal, general]            3.0            3.0   \n",
       "1  [abdominal, obstetric, gynecologic, general]            2.0            4.0   \n",
       "2                          [abdominal, general]            2.0            5.0   \n",
       "3   [intracavitary, endovaginal, gynecological]            4.0            6.0   \n",
       "4                  [cardiac, vascular, general]            4.0            7.0   \n",
       "\n",
       "   Stock  \n",
       "0      0  \n",
       "1      2  \n",
       "2      7  \n",
       "3      0  \n",
       "4      0  "
      ]
     },
     "execution_count": 24,
     "metadata": {},
     "output_type": "execute_result"
    }
   ],
   "source": [
    "# Load the probes dataset\n",
    "probes_df = pd.read_csv(\"../data/probes.csv\")\n",
    "probes_df = probes_df.drop(['Description'], axis=1)\n",
    "\n",
    "# Split \"Compatible_Systems\" column\n",
    "probes_df['Compatible_Systems'] = probes_df['Compatible_Systems'].str.split(', ')\n",
    "\n",
    "# Split \"Applications\" column\n",
    "probes_df['Applications'] = probes_df['Applications'].str.split(', ')\n",
    "\n",
    "# Load the systems dataset\n",
    "systems_df = pd.read_csv(\"../data/systems.csv\")\n",
    "\n",
    "# Split \"compatible_probes\" column\n",
    "systems_df['compatible_probes'] = systems_df['compatible_probes'].str.split(', ')\n",
    "\n",
    "# Print the head of the dataframes\n",
    "probes_df.head()"
   ]
  },
  {
   "cell_type": "code",
   "execution_count": 25,
   "metadata": {},
   "outputs": [
    {
     "data": {
      "text/html": [
       "<div>\n",
       "<style scoped>\n",
       "    .dataframe tbody tr th:only-of-type {\n",
       "        vertical-align: middle;\n",
       "    }\n",
       "\n",
       "    .dataframe tbody tr th {\n",
       "        vertical-align: top;\n",
       "    }\n",
       "\n",
       "    .dataframe thead th {\n",
       "        text-align: right;\n",
       "    }\n",
       "</style>\n",
       "<table border=\"1\" class=\"dataframe\">\n",
       "  <thead>\n",
       "    <tr style=\"text-align: right;\">\n",
       "      <th></th>\n",
       "      <th>ultrasound_system</th>\n",
       "      <th>manufacturer</th>\n",
       "      <th>compatible_probes</th>\n",
       "    </tr>\n",
       "  </thead>\n",
       "  <tbody>\n",
       "    <tr>\n",
       "      <th>0</th>\n",
       "      <td>HDI 5000</td>\n",
       "      <td>ATL</td>\n",
       "      <td>[C3, C4-2, C5-2, C5-IVT, C7-4, C8-4v, C9-5ICT,...</td>\n",
       "    </tr>\n",
       "    <tr>\n",
       "      <th>1</th>\n",
       "      <td>HDI 1500</td>\n",
       "      <td>ATL</td>\n",
       "      <td>[C5-2, C5-IVT, C7-4, C9-5ICT, L7-4]</td>\n",
       "    </tr>\n",
       "    <tr>\n",
       "      <th>2</th>\n",
       "      <td>HDI 3000</td>\n",
       "      <td>ATL</td>\n",
       "      <td>[C5-2, C5-IVT, C7-4, C8-4v, CL 10-5, CT8-4, L7-4]</td>\n",
       "    </tr>\n",
       "    <tr>\n",
       "      <th>3</th>\n",
       "      <td>HDI 3500</td>\n",
       "      <td>ATL</td>\n",
       "      <td>[C5-2, C5-IVT, C8-4v, CT8-4]</td>\n",
       "    </tr>\n",
       "    <tr>\n",
       "      <th>4</th>\n",
       "      <td>UM9 HDI</td>\n",
       "      <td>ATL</td>\n",
       "      <td>[C5-IVT, C7-4, L7-4]</td>\n",
       "    </tr>\n",
       "  </tbody>\n",
       "</table>\n",
       "</div>"
      ],
      "text/plain": [
       "  ultrasound_system manufacturer  \\\n",
       "0          HDI 5000          ATL   \n",
       "1          HDI 1500          ATL   \n",
       "2          HDI 3000          ATL   \n",
       "3          HDI 3500          ATL   \n",
       "4           UM9 HDI          ATL   \n",
       "\n",
       "                                   compatible_probes  \n",
       "0  [C3, C4-2, C5-2, C5-IVT, C7-4, C8-4v, C9-5ICT,...  \n",
       "1                [C5-2, C5-IVT, C7-4, C9-5ICT, L7-4]  \n",
       "2  [C5-2, C5-IVT, C7-4, C8-4v, CL 10-5, CT8-4, L7-4]  \n",
       "3                       [C5-2, C5-IVT, C8-4v, CT8-4]  \n",
       "4                               [C5-IVT, C7-4, L7-4]  "
      ]
     },
     "execution_count": 25,
     "metadata": {},
     "output_type": "execute_result"
    }
   ],
   "source": [
    "systems_df.head()"
   ]
  },
  {
   "cell_type": "markdown",
   "metadata": {},
   "source": [
    "## Generating document corpus\n",
    "\n",
    "Here we convert our tabular data into string sentences and generate tags that correspond to the information it contains."
   ]
  },
  {
   "cell_type": "code",
   "execution_count": 26,
   "metadata": {},
   "outputs": [
    {
     "data": {
      "text/html": [
       "<div>\n",
       "<style scoped>\n",
       "    .dataframe tbody tr th:only-of-type {\n",
       "        vertical-align: middle;\n",
       "    }\n",
       "\n",
       "    .dataframe tbody tr th {\n",
       "        vertical-align: top;\n",
       "    }\n",
       "\n",
       "    .dataframe thead th {\n",
       "        text-align: right;\n",
       "    }\n",
       "</style>\n",
       "<table border=\"1\" class=\"dataframe\">\n",
       "  <thead>\n",
       "    <tr style=\"text-align: right;\">\n",
       "      <th></th>\n",
       "      <th>content</th>\n",
       "      <th>tags</th>\n",
       "    </tr>\n",
       "  </thead>\n",
       "  <tbody>\n",
       "    <tr>\n",
       "      <th>0</th>\n",
       "      <td>The manufacturer of the C3 probe is ATL.</td>\n",
       "      <td>(manufacturer, C3, ATL, probes)</td>\n",
       "    </tr>\n",
       "    <tr>\n",
       "      <th>1</th>\n",
       "      <td>The ATL C3 probe is compatible with the follow...</td>\n",
       "      <td>(ATL, HDI 5000, probes, compatibility, C3)</td>\n",
       "    </tr>\n",
       "    <tr>\n",
       "      <th>2</th>\n",
       "      <td>The ATL C3 is a convex array type probe.</td>\n",
       "      <td>(ATL, C3, array type, probes)</td>\n",
       "    </tr>\n",
       "    <tr>\n",
       "      <th>3</th>\n",
       "      <td>The ATL C3 probe is suitable for the following...</td>\n",
       "      <td>(ATL, abdominal, general, probes, applications...</td>\n",
       "    </tr>\n",
       "    <tr>\n",
       "      <th>4</th>\n",
       "      <td>The ATL C3 probe is currently out of stock or ...</td>\n",
       "      <td>(ATL, C3, stock, probes)</td>\n",
       "    </tr>\n",
       "  </tbody>\n",
       "</table>\n",
       "</div>"
      ],
      "text/plain": [
       "                                             content  \\\n",
       "0           The manufacturer of the C3 probe is ATL.   \n",
       "1  The ATL C3 probe is compatible with the follow...   \n",
       "2           The ATL C3 is a convex array type probe.   \n",
       "3  The ATL C3 probe is suitable for the following...   \n",
       "4  The ATL C3 probe is currently out of stock or ...   \n",
       "\n",
       "                                                tags  \n",
       "0                    (manufacturer, C3, ATL, probes)  \n",
       "1         (ATL, HDI 5000, probes, compatibility, C3)  \n",
       "2                      (ATL, C3, array type, probes)  \n",
       "3  (ATL, abdominal, general, probes, applications...  \n",
       "4                           (ATL, C3, stock, probes)  "
      ]
     },
     "execution_count": 26,
     "metadata": {},
     "output_type": "execute_result"
    }
   ],
   "source": [
    "# Function to generate probe descriptions and tags\n",
    "def generate_probe_info(row):\n",
    "    \"\"\"\n",
    "    This function takes a row from the probes_df DataFrame and generates lists of probe descriptions and tags.\n",
    "    \"\"\"\n",
    "    descriptions = []\n",
    "    tags = []\n",
    "\n",
    "    # Manufacturer\n",
    "    descriptions.append(f\"The manufacturer of the {row['Probe_Model']} probe is {row['Manufacturer']}.\")\n",
    "    tags.append(frozenset(['probes', 'manufacturer', row['Manufacturer'], row['Probe_Model']]))\n",
    "\n",
    "    # Cartridge Connection\n",
    "    if row['Cartridge_Connection'] == 1:\n",
    "        descriptions.append(f\"The {row['Manufacturer']} {row['Probe_Model']} probe has a variant with a cartridge connection.\")\n",
    "        tags.append(frozenset(['probes', row['Manufacturer'], row['Probe_Model'], 'connection']))\n",
    "\n",
    "    # Compatible Systems\n",
    "    compatible_systems = ', '.join(row['Compatible_Systems'])\n",
    "    descriptions.append(f\"The {row['Manufacturer']} {row['Probe_Model']} probe is compatible with the following systems: {compatible_systems}.\")\n",
    "    tags.append(frozenset(['probes', row['Manufacturer'], row['Probe_Model'], 'compatibility', compatible_systems]))\n",
    "\n",
    "    # Array Type\n",
    "    descriptions.append(f\"The {row['Manufacturer']} {row['Probe_Model']} is a {row['Array_Type']} array type probe.\")\n",
    "    tags.append(frozenset(['probes', row['Manufacturer'], row['Probe_Model'], 'array type']))\n",
    "\n",
    "    # Applications\n",
    "    applications = ', '.join(row['Applications'])\n",
    "    descriptions.append(f\"The {row['Manufacturer']} {row['Probe_Model']} probe is suitable for the following applications: {applications}.\")\n",
    "    tags.append(frozenset(['probes', row['Manufacturer'], row['Probe_Model'], \"applications\", applications]))\n",
    "\n",
    "    # Stock\n",
    "    if row['Stock'] > 0:\n",
    "        descriptions.append(f\"The {row['Manufacturer']} {row['Probe_Model']} probe is currently in stock and available for sale.\")\n",
    "    else:\n",
    "        descriptions.append(f\"The {row['Manufacturer']} {row['Probe_Model']} probe is currently out of stock or not available for sale.\")\n",
    "    tags.append(frozenset(['probes', row['Manufacturer'], row['Probe_Model'], 'stock']))\n",
    "\n",
    "    # Frequency Range\n",
    "    descriptions.append(f\"The frequency range of the {row['Manufacturer']} {row['Probe_Model']} probe is {row['Min_Frequency']} - {row['Max_Frequency']} MHz.\")\n",
    "    tags.append(frozenset(['probes', row['Manufacturer'], row['Probe_Model'], 'frequency']))\n",
    "\n",
    "    return descriptions, tags\n",
    "\n",
    "# Function to generate system descriptions and tags\n",
    "def generate_system_description(row):\n",
    "    \"\"\"\n",
    "    This function takes a row from the systems_df DataFrame and generates lists of system descriptions and tags.\n",
    "    \"\"\"\n",
    "    descriptions = []\n",
    "    tags = []\n",
    "\n",
    "    # System manufacturer\n",
    "    description = f\"The {row['ultrasound_system']} ultrasound system is made by {row['manufacturer']}.\"\n",
    "    descriptions.append(description)\n",
    "    tags.append(frozenset([row['manufacturer'], row['ultrasound_system'], 'manufacturer', 'systems']))\n",
    "\n",
    "    # System compatible probes\n",
    "    compatible_probes = ', '.join(row['compatible_probes'])\n",
    "    description = f\"The {row['manufacturer']} {row['ultrasound_system']} ultrasound system is compatible with the following {row['manufacturer']} probes: {compatible_probes}.\"\n",
    "    descriptions.append(description)\n",
    "    tags.append(frozenset([row['manufacturer'], row['ultrasound_system'], 'compatibility', 'systems', compatible_probes]))\n",
    "\n",
    "    return descriptions, tags\n",
    "\n",
    "# Apply the probe function and directly unpack into separate lists\n",
    "probe_descriptions, probe_tags = zip(*probes_df.apply(generate_probe_info, axis=1))\n",
    "\n",
    "# Apply the system function and directly unpack into separate lists\n",
    "system_descriptions, system_tags = zip(*systems_df.apply(generate_system_description, axis=1))\n",
    "\n",
    "# Flatten the lists\n",
    "all_contents = [item for sublist in (probe_descriptions + system_descriptions) for item in sublist]\n",
    "all_tags = [item for sublist in (probe_tags + system_tags) for item in sublist]\n",
    "\n",
    "# Create a DataFrame from these lists\n",
    "documents = pd.DataFrame({\n",
    "    'content': all_contents,\n",
    "    'tags': all_tags\n",
    "})\n",
    "\n",
    "documents.head()"
   ]
  },
  {
   "cell_type": "markdown",
   "metadata": {},
   "source": [
    "## Generating queries for the documents using Ollama (llama3)\n",
    "\n",
    "We define a prompt and include examples of what questions to ask for each document type. We also instruct the prompt to structure its output using numbers to separate questions so each question can be extracted using regex. \n",
    "\n"
   ]
  },
  {
   "cell_type": "code",
   "execution_count": 29,
   "metadata": {},
   "outputs": [
    {
     "name": "stderr",
     "output_type": "stream",
     "text": [
      "Generating questions:   0%|          | 1/336 [00:00<00:00, 336.14it/s]"
     ]
    },
    {
     "name": "stderr",
     "output_type": "stream",
     "text": [
      "\n"
     ]
    },
    {
     "ename": "ResponseError",
     "evalue": "model \"llama3\" not found, try pulling it first",
     "output_type": "error",
     "traceback": [
      "\u001b[0;31m---------------------------------------------------------------------------\u001b[0m",
      "\u001b[0;31mResponseError\u001b[0m                             Traceback (most recent call last)",
      "Cell \u001b[0;32mIn[29], line 80\u001b[0m\n\u001b[1;32m     78\u001b[0m \u001b[38;5;66;03m# Generate questions for each document\u001b[39;00m\n\u001b[1;32m     79\u001b[0m tqdm\u001b[38;5;241m.\u001b[39mpandas(desc\u001b[38;5;241m=\u001b[39m\u001b[38;5;124m\"\u001b[39m\u001b[38;5;124mGenerating questions\u001b[39m\u001b[38;5;124m\"\u001b[39m)\n\u001b[0;32m---> 80\u001b[0m documents[\u001b[38;5;124m\"\u001b[39m\u001b[38;5;124mquestions\u001b[39m\u001b[38;5;124m\"\u001b[39m] \u001b[38;5;241m=\u001b[39m \u001b[43mdocuments\u001b[49m\u001b[43m[\u001b[49m\u001b[38;5;124;43m\"\u001b[39;49m\u001b[38;5;124;43mcontent\u001b[39;49m\u001b[38;5;124;43m\"\u001b[39;49m\u001b[43m]\u001b[49m\u001b[38;5;241;43m.\u001b[39;49m\u001b[43mprogress_apply\u001b[49m\u001b[43m(\u001b[49m\u001b[43mgenerate_questions\u001b[49m\u001b[43m)\u001b[49m\n",
      "File \u001b[0;32m~/Documents/Code/QA-Retrieval-System-main/QA/lib/python3.9/site-packages/tqdm/std.py:917\u001b[0m, in \u001b[0;36mtqdm.pandas.<locals>.inner_generator.<locals>.inner\u001b[0;34m(df, func, *args, **kwargs)\u001b[0m\n\u001b[1;32m    914\u001b[0m \u001b[38;5;66;03m# Apply the provided function (in **kwargs)\u001b[39;00m\n\u001b[1;32m    915\u001b[0m \u001b[38;5;66;03m# on the df using our wrapper (which provides bar updating)\u001b[39;00m\n\u001b[1;32m    916\u001b[0m \u001b[38;5;28;01mtry\u001b[39;00m:\n\u001b[0;32m--> 917\u001b[0m     \u001b[38;5;28;01mreturn\u001b[39;00m \u001b[38;5;28;43mgetattr\u001b[39;49m\u001b[43m(\u001b[49m\u001b[43mdf\u001b[49m\u001b[43m,\u001b[49m\u001b[43m \u001b[49m\u001b[43mdf_function\u001b[49m\u001b[43m)\u001b[49m\u001b[43m(\u001b[49m\u001b[43mwrapper\u001b[49m\u001b[43m,\u001b[49m\u001b[43m \u001b[49m\u001b[38;5;241;43m*\u001b[39;49m\u001b[38;5;241;43m*\u001b[39;49m\u001b[43mkwargs\u001b[49m\u001b[43m)\u001b[49m\n\u001b[1;32m    918\u001b[0m \u001b[38;5;28;01mfinally\u001b[39;00m:\n\u001b[1;32m    919\u001b[0m     t\u001b[38;5;241m.\u001b[39mclose()\n",
      "File \u001b[0;32m~/Documents/Code/QA-Retrieval-System-main/QA/lib/python3.9/site-packages/pandas/core/series.py:4917\u001b[0m, in \u001b[0;36mSeries.apply\u001b[0;34m(self, func, convert_dtype, args, by_row, **kwargs)\u001b[0m\n\u001b[1;32m   4789\u001b[0m \u001b[38;5;28;01mdef\u001b[39;00m \u001b[38;5;21mapply\u001b[39m(\n\u001b[1;32m   4790\u001b[0m     \u001b[38;5;28mself\u001b[39m,\n\u001b[1;32m   4791\u001b[0m     func: AggFuncType,\n\u001b[0;32m   (...)\u001b[0m\n\u001b[1;32m   4796\u001b[0m     \u001b[38;5;241m*\u001b[39m\u001b[38;5;241m*\u001b[39mkwargs,\n\u001b[1;32m   4797\u001b[0m ) \u001b[38;5;241m-\u001b[39m\u001b[38;5;241m>\u001b[39m DataFrame \u001b[38;5;241m|\u001b[39m Series:\n\u001b[1;32m   4798\u001b[0m \u001b[38;5;250m    \u001b[39m\u001b[38;5;124;03m\"\"\"\u001b[39;00m\n\u001b[1;32m   4799\u001b[0m \u001b[38;5;124;03m    Invoke function on values of Series.\u001b[39;00m\n\u001b[1;32m   4800\u001b[0m \n\u001b[0;32m   (...)\u001b[0m\n\u001b[1;32m   4915\u001b[0m \u001b[38;5;124;03m    dtype: float64\u001b[39;00m\n\u001b[1;32m   4916\u001b[0m \u001b[38;5;124;03m    \"\"\"\u001b[39;00m\n\u001b[0;32m-> 4917\u001b[0m     \u001b[38;5;28;01mreturn\u001b[39;00m \u001b[43mSeriesApply\u001b[49m\u001b[43m(\u001b[49m\n\u001b[1;32m   4918\u001b[0m \u001b[43m        \u001b[49m\u001b[38;5;28;43mself\u001b[39;49m\u001b[43m,\u001b[49m\n\u001b[1;32m   4919\u001b[0m \u001b[43m        \u001b[49m\u001b[43mfunc\u001b[49m\u001b[43m,\u001b[49m\n\u001b[1;32m   4920\u001b[0m \u001b[43m        \u001b[49m\u001b[43mconvert_dtype\u001b[49m\u001b[38;5;241;43m=\u001b[39;49m\u001b[43mconvert_dtype\u001b[49m\u001b[43m,\u001b[49m\n\u001b[1;32m   4921\u001b[0m \u001b[43m        \u001b[49m\u001b[43mby_row\u001b[49m\u001b[38;5;241;43m=\u001b[39;49m\u001b[43mby_row\u001b[49m\u001b[43m,\u001b[49m\n\u001b[1;32m   4922\u001b[0m \u001b[43m        \u001b[49m\u001b[43margs\u001b[49m\u001b[38;5;241;43m=\u001b[39;49m\u001b[43margs\u001b[49m\u001b[43m,\u001b[49m\n\u001b[1;32m   4923\u001b[0m \u001b[43m        \u001b[49m\u001b[43mkwargs\u001b[49m\u001b[38;5;241;43m=\u001b[39;49m\u001b[43mkwargs\u001b[49m\u001b[43m,\u001b[49m\n\u001b[1;32m   4924\u001b[0m \u001b[43m    \u001b[49m\u001b[43m)\u001b[49m\u001b[38;5;241;43m.\u001b[39;49m\u001b[43mapply\u001b[49m\u001b[43m(\u001b[49m\u001b[43m)\u001b[49m\n",
      "File \u001b[0;32m~/Documents/Code/QA-Retrieval-System-main/QA/lib/python3.9/site-packages/pandas/core/apply.py:1427\u001b[0m, in \u001b[0;36mSeriesApply.apply\u001b[0;34m(self)\u001b[0m\n\u001b[1;32m   1424\u001b[0m     \u001b[38;5;28;01mreturn\u001b[39;00m \u001b[38;5;28mself\u001b[39m\u001b[38;5;241m.\u001b[39mapply_compat()\n\u001b[1;32m   1426\u001b[0m \u001b[38;5;66;03m# self.func is Callable\u001b[39;00m\n\u001b[0;32m-> 1427\u001b[0m \u001b[38;5;28;01mreturn\u001b[39;00m \u001b[38;5;28;43mself\u001b[39;49m\u001b[38;5;241;43m.\u001b[39;49m\u001b[43mapply_standard\u001b[49m\u001b[43m(\u001b[49m\u001b[43m)\u001b[49m\n",
      "File \u001b[0;32m~/Documents/Code/QA-Retrieval-System-main/QA/lib/python3.9/site-packages/pandas/core/apply.py:1507\u001b[0m, in \u001b[0;36mSeriesApply.apply_standard\u001b[0;34m(self)\u001b[0m\n\u001b[1;32m   1501\u001b[0m \u001b[38;5;66;03m# row-wise access\u001b[39;00m\n\u001b[1;32m   1502\u001b[0m \u001b[38;5;66;03m# apply doesn't have a `na_action` keyword and for backward compat reasons\u001b[39;00m\n\u001b[1;32m   1503\u001b[0m \u001b[38;5;66;03m# we need to give `na_action=\"ignore\"` for categorical data.\u001b[39;00m\n\u001b[1;32m   1504\u001b[0m \u001b[38;5;66;03m# TODO: remove the `na_action=\"ignore\"` when that default has been changed in\u001b[39;00m\n\u001b[1;32m   1505\u001b[0m \u001b[38;5;66;03m#  Categorical (GH51645).\u001b[39;00m\n\u001b[1;32m   1506\u001b[0m action \u001b[38;5;241m=\u001b[39m \u001b[38;5;124m\"\u001b[39m\u001b[38;5;124mignore\u001b[39m\u001b[38;5;124m\"\u001b[39m \u001b[38;5;28;01mif\u001b[39;00m \u001b[38;5;28misinstance\u001b[39m(obj\u001b[38;5;241m.\u001b[39mdtype, CategoricalDtype) \u001b[38;5;28;01melse\u001b[39;00m \u001b[38;5;28;01mNone\u001b[39;00m\n\u001b[0;32m-> 1507\u001b[0m mapped \u001b[38;5;241m=\u001b[39m \u001b[43mobj\u001b[49m\u001b[38;5;241;43m.\u001b[39;49m\u001b[43m_map_values\u001b[49m\u001b[43m(\u001b[49m\n\u001b[1;32m   1508\u001b[0m \u001b[43m    \u001b[49m\u001b[43mmapper\u001b[49m\u001b[38;5;241;43m=\u001b[39;49m\u001b[43mcurried\u001b[49m\u001b[43m,\u001b[49m\u001b[43m \u001b[49m\u001b[43mna_action\u001b[49m\u001b[38;5;241;43m=\u001b[39;49m\u001b[43maction\u001b[49m\u001b[43m,\u001b[49m\u001b[43m \u001b[49m\u001b[43mconvert\u001b[49m\u001b[38;5;241;43m=\u001b[39;49m\u001b[38;5;28;43mself\u001b[39;49m\u001b[38;5;241;43m.\u001b[39;49m\u001b[43mconvert_dtype\u001b[49m\n\u001b[1;32m   1509\u001b[0m \u001b[43m\u001b[49m\u001b[43m)\u001b[49m\n\u001b[1;32m   1511\u001b[0m \u001b[38;5;28;01mif\u001b[39;00m \u001b[38;5;28mlen\u001b[39m(mapped) \u001b[38;5;129;01mand\u001b[39;00m \u001b[38;5;28misinstance\u001b[39m(mapped[\u001b[38;5;241m0\u001b[39m], ABCSeries):\n\u001b[1;32m   1512\u001b[0m     \u001b[38;5;66;03m# GH#43986 Need to do list(mapped) in order to get treated as nested\u001b[39;00m\n\u001b[1;32m   1513\u001b[0m     \u001b[38;5;66;03m#  See also GH#25959 regarding EA support\u001b[39;00m\n\u001b[1;32m   1514\u001b[0m     \u001b[38;5;28;01mreturn\u001b[39;00m obj\u001b[38;5;241m.\u001b[39m_constructor_expanddim(\u001b[38;5;28mlist\u001b[39m(mapped), index\u001b[38;5;241m=\u001b[39mobj\u001b[38;5;241m.\u001b[39mindex)\n",
      "File \u001b[0;32m~/Documents/Code/QA-Retrieval-System-main/QA/lib/python3.9/site-packages/pandas/core/base.py:921\u001b[0m, in \u001b[0;36mIndexOpsMixin._map_values\u001b[0;34m(self, mapper, na_action, convert)\u001b[0m\n\u001b[1;32m    918\u001b[0m \u001b[38;5;28;01mif\u001b[39;00m \u001b[38;5;28misinstance\u001b[39m(arr, ExtensionArray):\n\u001b[1;32m    919\u001b[0m     \u001b[38;5;28;01mreturn\u001b[39;00m arr\u001b[38;5;241m.\u001b[39mmap(mapper, na_action\u001b[38;5;241m=\u001b[39mna_action)\n\u001b[0;32m--> 921\u001b[0m \u001b[38;5;28;01mreturn\u001b[39;00m \u001b[43malgorithms\u001b[49m\u001b[38;5;241;43m.\u001b[39;49m\u001b[43mmap_array\u001b[49m\u001b[43m(\u001b[49m\u001b[43marr\u001b[49m\u001b[43m,\u001b[49m\u001b[43m \u001b[49m\u001b[43mmapper\u001b[49m\u001b[43m,\u001b[49m\u001b[43m \u001b[49m\u001b[43mna_action\u001b[49m\u001b[38;5;241;43m=\u001b[39;49m\u001b[43mna_action\u001b[49m\u001b[43m,\u001b[49m\u001b[43m \u001b[49m\u001b[43mconvert\u001b[49m\u001b[38;5;241;43m=\u001b[39;49m\u001b[43mconvert\u001b[49m\u001b[43m)\u001b[49m\n",
      "File \u001b[0;32m~/Documents/Code/QA-Retrieval-System-main/QA/lib/python3.9/site-packages/pandas/core/algorithms.py:1743\u001b[0m, in \u001b[0;36mmap_array\u001b[0;34m(arr, mapper, na_action, convert)\u001b[0m\n\u001b[1;32m   1741\u001b[0m values \u001b[38;5;241m=\u001b[39m arr\u001b[38;5;241m.\u001b[39mastype(\u001b[38;5;28mobject\u001b[39m, copy\u001b[38;5;241m=\u001b[39m\u001b[38;5;28;01mFalse\u001b[39;00m)\n\u001b[1;32m   1742\u001b[0m \u001b[38;5;28;01mif\u001b[39;00m na_action \u001b[38;5;129;01mis\u001b[39;00m \u001b[38;5;28;01mNone\u001b[39;00m:\n\u001b[0;32m-> 1743\u001b[0m     \u001b[38;5;28;01mreturn\u001b[39;00m \u001b[43mlib\u001b[49m\u001b[38;5;241;43m.\u001b[39;49m\u001b[43mmap_infer\u001b[49m\u001b[43m(\u001b[49m\u001b[43mvalues\u001b[49m\u001b[43m,\u001b[49m\u001b[43m \u001b[49m\u001b[43mmapper\u001b[49m\u001b[43m,\u001b[49m\u001b[43m \u001b[49m\u001b[43mconvert\u001b[49m\u001b[38;5;241;43m=\u001b[39;49m\u001b[43mconvert\u001b[49m\u001b[43m)\u001b[49m\n\u001b[1;32m   1744\u001b[0m \u001b[38;5;28;01melse\u001b[39;00m:\n\u001b[1;32m   1745\u001b[0m     \u001b[38;5;28;01mreturn\u001b[39;00m lib\u001b[38;5;241m.\u001b[39mmap_infer_mask(\n\u001b[1;32m   1746\u001b[0m         values, mapper, mask\u001b[38;5;241m=\u001b[39misna(values)\u001b[38;5;241m.\u001b[39mview(np\u001b[38;5;241m.\u001b[39muint8), convert\u001b[38;5;241m=\u001b[39mconvert\n\u001b[1;32m   1747\u001b[0m     )\n",
      "File \u001b[0;32mlib.pyx:2972\u001b[0m, in \u001b[0;36mpandas._libs.lib.map_infer\u001b[0;34m()\u001b[0m\n",
      "File \u001b[0;32m~/Documents/Code/QA-Retrieval-System-main/QA/lib/python3.9/site-packages/tqdm/std.py:912\u001b[0m, in \u001b[0;36mtqdm.pandas.<locals>.inner_generator.<locals>.inner.<locals>.wrapper\u001b[0;34m(*args, **kwargs)\u001b[0m\n\u001b[1;32m    906\u001b[0m \u001b[38;5;28;01mdef\u001b[39;00m \u001b[38;5;21mwrapper\u001b[39m(\u001b[38;5;241m*\u001b[39margs, \u001b[38;5;241m*\u001b[39m\u001b[38;5;241m*\u001b[39mkwargs):\n\u001b[1;32m    907\u001b[0m     \u001b[38;5;66;03m# update tbar correctly\u001b[39;00m\n\u001b[1;32m    908\u001b[0m     \u001b[38;5;66;03m# it seems `pandas apply` calls `func` twice\u001b[39;00m\n\u001b[1;32m    909\u001b[0m     \u001b[38;5;66;03m# on the first column/row to decide whether it can\u001b[39;00m\n\u001b[1;32m    910\u001b[0m     \u001b[38;5;66;03m# take a fast or slow code path; so stop when t.total==t.n\u001b[39;00m\n\u001b[1;32m    911\u001b[0m     t\u001b[38;5;241m.\u001b[39mupdate(n\u001b[38;5;241m=\u001b[39m\u001b[38;5;241m1\u001b[39m \u001b[38;5;28;01mif\u001b[39;00m \u001b[38;5;129;01mnot\u001b[39;00m t\u001b[38;5;241m.\u001b[39mtotal \u001b[38;5;129;01mor\u001b[39;00m t\u001b[38;5;241m.\u001b[39mn \u001b[38;5;241m<\u001b[39m t\u001b[38;5;241m.\u001b[39mtotal \u001b[38;5;28;01melse\u001b[39;00m \u001b[38;5;241m0\u001b[39m)\n\u001b[0;32m--> 912\u001b[0m     \u001b[38;5;28;01mreturn\u001b[39;00m \u001b[43mfunc\u001b[49m\u001b[43m(\u001b[49m\u001b[38;5;241;43m*\u001b[39;49m\u001b[43margs\u001b[49m\u001b[43m,\u001b[49m\u001b[43m \u001b[49m\u001b[38;5;241;43m*\u001b[39;49m\u001b[38;5;241;43m*\u001b[39;49m\u001b[43mkwargs\u001b[49m\u001b[43m)\u001b[49m\n",
      "Cell \u001b[0;32mIn[29], line 74\u001b[0m, in \u001b[0;36mgenerate_questions\u001b[0;34m(text_chunk)\u001b[0m\n\u001b[1;32m     72\u001b[0m \u001b[38;5;28;01mdef\u001b[39;00m \u001b[38;5;21mgenerate_questions\u001b[39m(text_chunk):\n\u001b[1;32m     73\u001b[0m     prompt \u001b[38;5;241m=\u001b[39m prompt_template\u001b[38;5;241m.\u001b[39mformat(document\u001b[38;5;241m=\u001b[39mtext_chunk)\n\u001b[0;32m---> 74\u001b[0m     output \u001b[38;5;241m=\u001b[39m \u001b[43mllm\u001b[49m\u001b[43m(\u001b[49m\u001b[43mprompt\u001b[49m\u001b[43m)\u001b[49m\n\u001b[1;32m     75\u001b[0m     questions \u001b[38;5;241m=\u001b[39m extract_questions(output)\n\u001b[1;32m     76\u001b[0m     \u001b[38;5;28;01mreturn\u001b[39;00m questions\n",
      "File \u001b[0;32m~/Documents/Code/QA-Retrieval-System-main/QA/lib/python3.9/site-packages/langchain_core/_api/deprecation.py:182\u001b[0m, in \u001b[0;36mdeprecated.<locals>.deprecate.<locals>.warning_emitting_wrapper\u001b[0;34m(*args, **kwargs)\u001b[0m\n\u001b[1;32m    180\u001b[0m     warned \u001b[38;5;241m=\u001b[39m \u001b[38;5;28;01mTrue\u001b[39;00m\n\u001b[1;32m    181\u001b[0m     emit_warning()\n\u001b[0;32m--> 182\u001b[0m \u001b[38;5;28;01mreturn\u001b[39;00m \u001b[43mwrapped\u001b[49m\u001b[43m(\u001b[49m\u001b[38;5;241;43m*\u001b[39;49m\u001b[43margs\u001b[49m\u001b[43m,\u001b[49m\u001b[43m \u001b[49m\u001b[38;5;241;43m*\u001b[39;49m\u001b[38;5;241;43m*\u001b[39;49m\u001b[43mkwargs\u001b[49m\u001b[43m)\u001b[49m\n",
      "File \u001b[0;32m~/Documents/Code/QA-Retrieval-System-main/QA/lib/python3.9/site-packages/langchain_core/language_models/llms.py:1277\u001b[0m, in \u001b[0;36mBaseLLM.__call__\u001b[0;34m(self, prompt, stop, callbacks, tags, metadata, **kwargs)\u001b[0m\n\u001b[1;32m   1270\u001b[0m     msg \u001b[38;5;241m=\u001b[39m (\n\u001b[1;32m   1271\u001b[0m         \u001b[38;5;124m\"\u001b[39m\u001b[38;5;124mArgument `prompt` is expected to be a string. Instead found \u001b[39m\u001b[38;5;124m\"\u001b[39m\n\u001b[1;32m   1272\u001b[0m         \u001b[38;5;124mf\u001b[39m\u001b[38;5;124m\"\u001b[39m\u001b[38;5;132;01m{\u001b[39;00m\u001b[38;5;28mtype\u001b[39m(prompt)\u001b[38;5;132;01m}\u001b[39;00m\u001b[38;5;124m. If you want to run the LLM on multiple prompts, use \u001b[39m\u001b[38;5;124m\"\u001b[39m\n\u001b[1;32m   1273\u001b[0m         \u001b[38;5;124m\"\u001b[39m\u001b[38;5;124m`generate` instead.\u001b[39m\u001b[38;5;124m\"\u001b[39m\n\u001b[1;32m   1274\u001b[0m     )\n\u001b[1;32m   1275\u001b[0m     \u001b[38;5;28;01mraise\u001b[39;00m \u001b[38;5;167;01mValueError\u001b[39;00m(msg)\n\u001b[1;32m   1276\u001b[0m \u001b[38;5;28;01mreturn\u001b[39;00m (\n\u001b[0;32m-> 1277\u001b[0m     \u001b[38;5;28;43mself\u001b[39;49m\u001b[38;5;241;43m.\u001b[39;49m\u001b[43mgenerate\u001b[49m\u001b[43m(\u001b[49m\n\u001b[1;32m   1278\u001b[0m \u001b[43m        \u001b[49m\u001b[43m[\u001b[49m\u001b[43mprompt\u001b[49m\u001b[43m]\u001b[49m\u001b[43m,\u001b[49m\n\u001b[1;32m   1279\u001b[0m \u001b[43m        \u001b[49m\u001b[43mstop\u001b[49m\u001b[38;5;241;43m=\u001b[39;49m\u001b[43mstop\u001b[49m\u001b[43m,\u001b[49m\n\u001b[1;32m   1280\u001b[0m \u001b[43m        \u001b[49m\u001b[43mcallbacks\u001b[49m\u001b[38;5;241;43m=\u001b[39;49m\u001b[43mcallbacks\u001b[49m\u001b[43m,\u001b[49m\n\u001b[1;32m   1281\u001b[0m \u001b[43m        \u001b[49m\u001b[43mtags\u001b[49m\u001b[38;5;241;43m=\u001b[39;49m\u001b[43mtags\u001b[49m\u001b[43m,\u001b[49m\n\u001b[1;32m   1282\u001b[0m \u001b[43m        \u001b[49m\u001b[43mmetadata\u001b[49m\u001b[38;5;241;43m=\u001b[39;49m\u001b[43mmetadata\u001b[49m\u001b[43m,\u001b[49m\n\u001b[1;32m   1283\u001b[0m \u001b[43m        \u001b[49m\u001b[38;5;241;43m*\u001b[39;49m\u001b[38;5;241;43m*\u001b[39;49m\u001b[43mkwargs\u001b[49m\u001b[43m,\u001b[49m\n\u001b[1;32m   1284\u001b[0m \u001b[43m    \u001b[49m\u001b[43m)\u001b[49m\n\u001b[1;32m   1285\u001b[0m     \u001b[38;5;241m.\u001b[39mgenerations[\u001b[38;5;241m0\u001b[39m][\u001b[38;5;241m0\u001b[39m]\n\u001b[1;32m   1286\u001b[0m     \u001b[38;5;241m.\u001b[39mtext\n\u001b[1;32m   1287\u001b[0m )\n",
      "File \u001b[0;32m~/Documents/Code/QA-Retrieval-System-main/QA/lib/python3.9/site-packages/langchain_core/language_models/llms.py:950\u001b[0m, in \u001b[0;36mBaseLLM.generate\u001b[0;34m(self, prompts, stop, callbacks, tags, metadata, run_name, run_id, **kwargs)\u001b[0m\n\u001b[1;32m    935\u001b[0m \u001b[38;5;28;01mif\u001b[39;00m (\u001b[38;5;28mself\u001b[39m\u001b[38;5;241m.\u001b[39mcache \u001b[38;5;129;01mis\u001b[39;00m \u001b[38;5;28;01mNone\u001b[39;00m \u001b[38;5;129;01mand\u001b[39;00m get_llm_cache() \u001b[38;5;129;01mis\u001b[39;00m \u001b[38;5;28;01mNone\u001b[39;00m) \u001b[38;5;129;01mor\u001b[39;00m \u001b[38;5;28mself\u001b[39m\u001b[38;5;241m.\u001b[39mcache \u001b[38;5;129;01mis\u001b[39;00m \u001b[38;5;28;01mFalse\u001b[39;00m:\n\u001b[1;32m    936\u001b[0m     run_managers \u001b[38;5;241m=\u001b[39m [\n\u001b[1;32m    937\u001b[0m         callback_manager\u001b[38;5;241m.\u001b[39mon_llm_start(\n\u001b[1;32m    938\u001b[0m             \u001b[38;5;28mself\u001b[39m\u001b[38;5;241m.\u001b[39m_serialized,\n\u001b[0;32m   (...)\u001b[0m\n\u001b[1;32m    948\u001b[0m         )\n\u001b[1;32m    949\u001b[0m     ]\n\u001b[0;32m--> 950\u001b[0m     output \u001b[38;5;241m=\u001b[39m \u001b[38;5;28;43mself\u001b[39;49m\u001b[38;5;241;43m.\u001b[39;49m\u001b[43m_generate_helper\u001b[49m\u001b[43m(\u001b[49m\n\u001b[1;32m    951\u001b[0m \u001b[43m        \u001b[49m\u001b[43mprompts\u001b[49m\u001b[43m,\u001b[49m\u001b[43m \u001b[49m\u001b[43mstop\u001b[49m\u001b[43m,\u001b[49m\u001b[43m \u001b[49m\u001b[43mrun_managers\u001b[49m\u001b[43m,\u001b[49m\u001b[43m \u001b[49m\u001b[38;5;28;43mbool\u001b[39;49m\u001b[43m(\u001b[49m\u001b[43mnew_arg_supported\u001b[49m\u001b[43m)\u001b[49m\u001b[43m,\u001b[49m\u001b[43m \u001b[49m\u001b[38;5;241;43m*\u001b[39;49m\u001b[38;5;241;43m*\u001b[39;49m\u001b[43mkwargs\u001b[49m\n\u001b[1;32m    952\u001b[0m \u001b[43m    \u001b[49m\u001b[43m)\u001b[49m\n\u001b[1;32m    953\u001b[0m     \u001b[38;5;28;01mreturn\u001b[39;00m output\n\u001b[1;32m    954\u001b[0m \u001b[38;5;28;01mif\u001b[39;00m \u001b[38;5;28mlen\u001b[39m(missing_prompts) \u001b[38;5;241m>\u001b[39m \u001b[38;5;241m0\u001b[39m:\n",
      "File \u001b[0;32m~/Documents/Code/QA-Retrieval-System-main/QA/lib/python3.9/site-packages/langchain_core/language_models/llms.py:792\u001b[0m, in \u001b[0;36mBaseLLM._generate_helper\u001b[0;34m(self, prompts, stop, run_managers, new_arg_supported, **kwargs)\u001b[0m\n\u001b[1;32m    790\u001b[0m     \u001b[38;5;28;01mfor\u001b[39;00m run_manager \u001b[38;5;129;01min\u001b[39;00m run_managers:\n\u001b[1;32m    791\u001b[0m         run_manager\u001b[38;5;241m.\u001b[39mon_llm_error(e, response\u001b[38;5;241m=\u001b[39mLLMResult(generations\u001b[38;5;241m=\u001b[39m[]))\n\u001b[0;32m--> 792\u001b[0m     \u001b[38;5;28;01mraise\u001b[39;00m e\n\u001b[1;32m    793\u001b[0m flattened_outputs \u001b[38;5;241m=\u001b[39m output\u001b[38;5;241m.\u001b[39mflatten()\n\u001b[1;32m    794\u001b[0m \u001b[38;5;28;01mfor\u001b[39;00m manager, flattened_output \u001b[38;5;129;01min\u001b[39;00m \u001b[38;5;28mzip\u001b[39m(run_managers, flattened_outputs):\n",
      "File \u001b[0;32m~/Documents/Code/QA-Retrieval-System-main/QA/lib/python3.9/site-packages/langchain_core/language_models/llms.py:779\u001b[0m, in \u001b[0;36mBaseLLM._generate_helper\u001b[0;34m(self, prompts, stop, run_managers, new_arg_supported, **kwargs)\u001b[0m\n\u001b[1;32m    769\u001b[0m \u001b[38;5;28;01mdef\u001b[39;00m \u001b[38;5;21m_generate_helper\u001b[39m(\n\u001b[1;32m    770\u001b[0m     \u001b[38;5;28mself\u001b[39m,\n\u001b[1;32m    771\u001b[0m     prompts: \u001b[38;5;28mlist\u001b[39m[\u001b[38;5;28mstr\u001b[39m],\n\u001b[0;32m   (...)\u001b[0m\n\u001b[1;32m    775\u001b[0m     \u001b[38;5;241m*\u001b[39m\u001b[38;5;241m*\u001b[39mkwargs: Any,\n\u001b[1;32m    776\u001b[0m ) \u001b[38;5;241m-\u001b[39m\u001b[38;5;241m>\u001b[39m LLMResult:\n\u001b[1;32m    777\u001b[0m     \u001b[38;5;28;01mtry\u001b[39;00m:\n\u001b[1;32m    778\u001b[0m         output \u001b[38;5;241m=\u001b[39m (\n\u001b[0;32m--> 779\u001b[0m             \u001b[38;5;28;43mself\u001b[39;49m\u001b[38;5;241;43m.\u001b[39;49m\u001b[43m_generate\u001b[49m\u001b[43m(\u001b[49m\n\u001b[1;32m    780\u001b[0m \u001b[43m                \u001b[49m\u001b[43mprompts\u001b[49m\u001b[43m,\u001b[49m\n\u001b[1;32m    781\u001b[0m \u001b[43m                \u001b[49m\u001b[43mstop\u001b[49m\u001b[38;5;241;43m=\u001b[39;49m\u001b[43mstop\u001b[49m\u001b[43m,\u001b[49m\n\u001b[1;32m    782\u001b[0m \u001b[43m                \u001b[49m\u001b[38;5;66;43;03m# TODO: support multiple run managers\u001b[39;49;00m\n\u001b[1;32m    783\u001b[0m \u001b[43m                \u001b[49m\u001b[43mrun_manager\u001b[49m\u001b[38;5;241;43m=\u001b[39;49m\u001b[43mrun_managers\u001b[49m\u001b[43m[\u001b[49m\u001b[38;5;241;43m0\u001b[39;49m\u001b[43m]\u001b[49m\u001b[43m \u001b[49m\u001b[38;5;28;43;01mif\u001b[39;49;00m\u001b[43m \u001b[49m\u001b[43mrun_managers\u001b[49m\u001b[43m \u001b[49m\u001b[38;5;28;43;01melse\u001b[39;49;00m\u001b[43m \u001b[49m\u001b[38;5;28;43;01mNone\u001b[39;49;00m\u001b[43m,\u001b[49m\n\u001b[1;32m    784\u001b[0m \u001b[43m                \u001b[49m\u001b[38;5;241;43m*\u001b[39;49m\u001b[38;5;241;43m*\u001b[39;49m\u001b[43mkwargs\u001b[49m\u001b[43m,\u001b[49m\n\u001b[1;32m    785\u001b[0m \u001b[43m            \u001b[49m\u001b[43m)\u001b[49m\n\u001b[1;32m    786\u001b[0m             \u001b[38;5;28;01mif\u001b[39;00m new_arg_supported\n\u001b[1;32m    787\u001b[0m             \u001b[38;5;28;01melse\u001b[39;00m \u001b[38;5;28mself\u001b[39m\u001b[38;5;241m.\u001b[39m_generate(prompts, stop\u001b[38;5;241m=\u001b[39mstop)\n\u001b[1;32m    788\u001b[0m         )\n\u001b[1;32m    789\u001b[0m     \u001b[38;5;28;01mexcept\u001b[39;00m \u001b[38;5;167;01mBaseException\u001b[39;00m \u001b[38;5;28;01mas\u001b[39;00m e:\n\u001b[1;32m    790\u001b[0m         \u001b[38;5;28;01mfor\u001b[39;00m run_manager \u001b[38;5;129;01min\u001b[39;00m run_managers:\n",
      "File \u001b[0;32m~/Documents/Code/QA-Retrieval-System-main/QA/lib/python3.9/site-packages/langchain_ollama/llms.py:304\u001b[0m, in \u001b[0;36mOllamaLLM._generate\u001b[0;34m(self, prompts, stop, run_manager, **kwargs)\u001b[0m\n\u001b[1;32m    302\u001b[0m generations \u001b[38;5;241m=\u001b[39m []\n\u001b[1;32m    303\u001b[0m \u001b[38;5;28;01mfor\u001b[39;00m prompt \u001b[38;5;129;01min\u001b[39;00m prompts:\n\u001b[0;32m--> 304\u001b[0m     final_chunk \u001b[38;5;241m=\u001b[39m \u001b[38;5;28;43mself\u001b[39;49m\u001b[38;5;241;43m.\u001b[39;49m\u001b[43m_stream_with_aggregation\u001b[49m\u001b[43m(\u001b[49m\n\u001b[1;32m    305\u001b[0m \u001b[43m        \u001b[49m\u001b[43mprompt\u001b[49m\u001b[43m,\u001b[49m\n\u001b[1;32m    306\u001b[0m \u001b[43m        \u001b[49m\u001b[43mstop\u001b[49m\u001b[38;5;241;43m=\u001b[39;49m\u001b[43mstop\u001b[49m\u001b[43m,\u001b[49m\n\u001b[1;32m    307\u001b[0m \u001b[43m        \u001b[49m\u001b[43mrun_manager\u001b[49m\u001b[38;5;241;43m=\u001b[39;49m\u001b[43mrun_manager\u001b[49m\u001b[43m,\u001b[49m\n\u001b[1;32m    308\u001b[0m \u001b[43m        \u001b[49m\u001b[43mverbose\u001b[49m\u001b[38;5;241;43m=\u001b[39;49m\u001b[38;5;28;43mself\u001b[39;49m\u001b[38;5;241;43m.\u001b[39;49m\u001b[43mverbose\u001b[49m\u001b[43m,\u001b[49m\n\u001b[1;32m    309\u001b[0m \u001b[43m        \u001b[49m\u001b[38;5;241;43m*\u001b[39;49m\u001b[38;5;241;43m*\u001b[39;49m\u001b[43mkwargs\u001b[49m\u001b[43m,\u001b[49m\n\u001b[1;32m    310\u001b[0m \u001b[43m    \u001b[49m\u001b[43m)\u001b[49m\n\u001b[1;32m    311\u001b[0m     generations\u001b[38;5;241m.\u001b[39mappend([final_chunk])\n\u001b[1;32m    312\u001b[0m \u001b[38;5;28;01mreturn\u001b[39;00m LLMResult(generations\u001b[38;5;241m=\u001b[39mgenerations)\n",
      "File \u001b[0;32m~/Documents/Code/QA-Retrieval-System-main/QA/lib/python3.9/site-packages/langchain_ollama/llms.py:272\u001b[0m, in \u001b[0;36mOllamaLLM._stream_with_aggregation\u001b[0;34m(self, prompt, stop, run_manager, verbose, **kwargs)\u001b[0m\n\u001b[1;32m    263\u001b[0m \u001b[38;5;28;01mdef\u001b[39;00m \u001b[38;5;21m_stream_with_aggregation\u001b[39m(\n\u001b[1;32m    264\u001b[0m     \u001b[38;5;28mself\u001b[39m,\n\u001b[1;32m    265\u001b[0m     prompt: \u001b[38;5;28mstr\u001b[39m,\n\u001b[0;32m   (...)\u001b[0m\n\u001b[1;32m    269\u001b[0m     \u001b[38;5;241m*\u001b[39m\u001b[38;5;241m*\u001b[39mkwargs: Any,\n\u001b[1;32m    270\u001b[0m ) \u001b[38;5;241m-\u001b[39m\u001b[38;5;241m>\u001b[39m GenerationChunk:\n\u001b[1;32m    271\u001b[0m     final_chunk \u001b[38;5;241m=\u001b[39m \u001b[38;5;28;01mNone\u001b[39;00m\n\u001b[0;32m--> 272\u001b[0m     \u001b[38;5;28;01mfor\u001b[39;00m stream_resp \u001b[38;5;129;01min\u001b[39;00m \u001b[38;5;28mself\u001b[39m\u001b[38;5;241m.\u001b[39m_create_generate_stream(prompt, stop, \u001b[38;5;241m*\u001b[39m\u001b[38;5;241m*\u001b[39mkwargs):\n\u001b[1;32m    273\u001b[0m         \u001b[38;5;28;01mif\u001b[39;00m \u001b[38;5;129;01mnot\u001b[39;00m \u001b[38;5;28misinstance\u001b[39m(stream_resp, \u001b[38;5;28mstr\u001b[39m):\n\u001b[1;32m    274\u001b[0m             chunk \u001b[38;5;241m=\u001b[39m GenerationChunk(\n\u001b[1;32m    275\u001b[0m                 text\u001b[38;5;241m=\u001b[39mstream_resp[\u001b[38;5;124m\"\u001b[39m\u001b[38;5;124mresponse\u001b[39m\u001b[38;5;124m\"\u001b[39m] \u001b[38;5;28;01mif\u001b[39;00m \u001b[38;5;124m\"\u001b[39m\u001b[38;5;124mresponse\u001b[39m\u001b[38;5;124m\"\u001b[39m \u001b[38;5;129;01min\u001b[39;00m stream_resp \u001b[38;5;28;01melse\u001b[39;00m \u001b[38;5;124m\"\u001b[39m\u001b[38;5;124m\"\u001b[39m,\n\u001b[1;32m    276\u001b[0m                 generation_info\u001b[38;5;241m=\u001b[39m(\n\u001b[1;32m    277\u001b[0m                     \u001b[38;5;28mdict\u001b[39m(stream_resp) \u001b[38;5;28;01mif\u001b[39;00m stream_resp\u001b[38;5;241m.\u001b[39mget(\u001b[38;5;124m\"\u001b[39m\u001b[38;5;124mdone\u001b[39m\u001b[38;5;124m\"\u001b[39m) \u001b[38;5;129;01mis\u001b[39;00m \u001b[38;5;28;01mTrue\u001b[39;00m \u001b[38;5;28;01melse\u001b[39;00m \u001b[38;5;28;01mNone\u001b[39;00m\n\u001b[1;32m    278\u001b[0m                 ),\n\u001b[1;32m    279\u001b[0m             )\n",
      "File \u001b[0;32m~/Documents/Code/QA-Retrieval-System-main/QA/lib/python3.9/site-packages/langchain_ollama/llms.py:222\u001b[0m, in \u001b[0;36mOllamaLLM._create_generate_stream\u001b[0;34m(self, prompt, stop, **kwargs)\u001b[0m\n\u001b[1;32m    219\u001b[0m         params[key] \u001b[38;5;241m=\u001b[39m kwargs[key]\n\u001b[1;32m    221\u001b[0m params[\u001b[38;5;124m\"\u001b[39m\u001b[38;5;124moptions\u001b[39m\u001b[38;5;124m\"\u001b[39m][\u001b[38;5;124m\"\u001b[39m\u001b[38;5;124mstop\u001b[39m\u001b[38;5;124m\"\u001b[39m] \u001b[38;5;241m=\u001b[39m stop\n\u001b[0;32m--> 222\u001b[0m \u001b[38;5;28;01myield from\u001b[39;00m \u001b[38;5;28mself\u001b[39m\u001b[38;5;241m.\u001b[39m_client\u001b[38;5;241m.\u001b[39mgenerate(\n\u001b[1;32m    223\u001b[0m     model\u001b[38;5;241m=\u001b[39mparams[\u001b[38;5;124m\"\u001b[39m\u001b[38;5;124mmodel\u001b[39m\u001b[38;5;124m\"\u001b[39m],\n\u001b[1;32m    224\u001b[0m     prompt\u001b[38;5;241m=\u001b[39mprompt,\n\u001b[1;32m    225\u001b[0m     stream\u001b[38;5;241m=\u001b[39m\u001b[38;5;28;01mTrue\u001b[39;00m,\n\u001b[1;32m    226\u001b[0m     options\u001b[38;5;241m=\u001b[39mOptions(\u001b[38;5;241m*\u001b[39m\u001b[38;5;241m*\u001b[39mparams[\u001b[38;5;124m\"\u001b[39m\u001b[38;5;124moptions\u001b[39m\u001b[38;5;124m\"\u001b[39m]),\n\u001b[1;32m    227\u001b[0m     keep_alive\u001b[38;5;241m=\u001b[39mparams[\u001b[38;5;124m\"\u001b[39m\u001b[38;5;124mkeep_alive\u001b[39m\u001b[38;5;124m\"\u001b[39m],\n\u001b[1;32m    228\u001b[0m     \u001b[38;5;28mformat\u001b[39m\u001b[38;5;241m=\u001b[39mparams[\u001b[38;5;124m\"\u001b[39m\u001b[38;5;124mformat\u001b[39m\u001b[38;5;124m\"\u001b[39m],\n\u001b[1;32m    229\u001b[0m )\n",
      "File \u001b[0;32m~/Documents/Code/QA-Retrieval-System-main/QA/lib/python3.9/site-packages/ollama/_client.py:85\u001b[0m, in \u001b[0;36mClient._stream\u001b[0;34m(self, method, url, **kwargs)\u001b[0m\n\u001b[1;32m     83\u001b[0m \u001b[38;5;28;01mexcept\u001b[39;00m httpx\u001b[38;5;241m.\u001b[39mHTTPStatusError \u001b[38;5;28;01mas\u001b[39;00m e:\n\u001b[1;32m     84\u001b[0m   e\u001b[38;5;241m.\u001b[39mresponse\u001b[38;5;241m.\u001b[39mread()\n\u001b[0;32m---> 85\u001b[0m   \u001b[38;5;28;01mraise\u001b[39;00m ResponseError(e\u001b[38;5;241m.\u001b[39mresponse\u001b[38;5;241m.\u001b[39mtext, e\u001b[38;5;241m.\u001b[39mresponse\u001b[38;5;241m.\u001b[39mstatus_code) \u001b[38;5;28;01mfrom\u001b[39;00m \u001b[38;5;28;01mNone\u001b[39;00m\n\u001b[1;32m     87\u001b[0m \u001b[38;5;28;01mfor\u001b[39;00m line \u001b[38;5;129;01min\u001b[39;00m r\u001b[38;5;241m.\u001b[39miter_lines():\n\u001b[1;32m     88\u001b[0m   partial \u001b[38;5;241m=\u001b[39m json\u001b[38;5;241m.\u001b[39mloads(line)\n",
      "\u001b[0;31mResponseError\u001b[0m: model \"llama3\" not found, try pulling it first"
     ]
    }
   ],
   "source": [
    "# Load the Ollama LLM\n",
    "llm = OllamaLLM(model=\"llama3.2\")\n",
    "\n",
    "prompt_template = PromptTemplate(\n",
    "    input_variables=[\"document\"],\n",
    "    template=\"\"\"\n",
    "Generate three concise questions that can be answered using the following information, similar to the example provided. Provide only the questions, numbered as follows:\n",
    "\n",
    "1. [insert question here]\n",
    "2. [insert question here]\n",
    "3. [insert question here]\n",
    "\n",
    "Example 1:\n",
    "Information: The manufacturer of the C3 probe is ATL.\n",
    "Questions:\n",
    "1. Who is the manufacturer of the C3 probe?\n",
    "2. Who makes the C3 transducer?\n",
    "3. Is the C3 probe made by ATL?\n",
    "\n",
    "Example 2:\n",
    "Information: The G.E. RIC5-9D probe is compatible with the following systems: Voluson E6, Voluson E8, Voluson E10, LOGIQ S7, LOGIQ S8, Vivid E95, LOGIQ E9, LOGIQ E10.\n",
    "Questions:\n",
    "1. What systems are compatible with the G.E. RIC5-9D probe?\n",
    "2. Does the G.E. RIC5-9D work with the Voluson E6 system?\n",
    "3. Is the G.E. RIC5-9D transducer compatible with the LOGIQ S7 system?\n",
    "\n",
    "Example 3:\n",
    "Information: The Siemens Acuson 15L8W probe has a variant with a cartridge connection.\n",
    "Questions:\n",
    "1. Does the Siemens Acuson 15L8W probe have a cartridge connection?\n",
    "2. What kind of connector does the Siemens Acuson 15L8W transducer use?\n",
    "3. Does the Siemens Acuson 15L8W probe use a cartridge connector?\n",
    "\n",
    "Example 4:\n",
    "Information: The Philips C8-4v is a convex array type probe.\n",
    "Questions:\n",
    "1. What array type is the Philips C8-4v?\n",
    "2. What type of transducer is the Philips C8-4v?\n",
    "3. Is the Philips C8-4v a convex array probe?\n",
    "\n",
    "Example 5:\n",
    "Information: The ATL P6-3 probe is suitable for the following applications: cardiac, vascular, general.\n",
    "Questions:\n",
    "1. What can the ATL P6-3 probe be used for?\n",
    "2. What are the applications of the ATL P6-3 probe?\n",
    "3. Can the P6-3 probe be used for cardiac applications?\n",
    "\n",
    "Example 6:\n",
    "Information: The G.E. RAB2-5L probe is currently in stock and available for sale.\n",
    "Questions:\n",
    "1. Do you have any RAB2-5L probes by G.E. for sale?\n",
    "2. Is the G.E. RAB2-5L probe in stock?\n",
    "3. Are there any RAB2-5L transducers for sale?\n",
    "\n",
    "Example 7:\n",
    "Information: The frequency range of the ATL L10-5 probe is 5.0 - 10.0 MHz.\n",
    "Questions:\n",
    "1. What is the frequency range of the ATL L10-5 probe?\n",
    "2. What is the maximum frequency range of the ATL L10-5 transducer?\n",
    "3. What is the minimum frequency range of the ATL L10-5 probe?\n",
    "\n",
    "Information:\n",
    "{document}\n",
    "\"\"\"\n",
    ")\n",
    "\n",
    "def extract_questions(response):\n",
    "    pattern = r'\\d+\\.\\s(.+?\\?)'\n",
    "    questions = re.findall(pattern, response)\n",
    "    return questions\n",
    "\n",
    "def generate_questions(text_chunk):\n",
    "    prompt = prompt_template.format(document=text_chunk)\n",
    "    output = llm(prompt)\n",
    "    questions = extract_questions(output)\n",
    "    return questions\n",
    "\n",
    "# Generate questions for each document\n",
    "tqdm.pandas(desc=\"Generating questions\")\n",
    "documents[\"questions\"] = documents[\"content\"].progress_apply(generate_questions)"
   ]
  },
  {
   "cell_type": "code",
   "execution_count": 51,
   "metadata": {},
   "outputs": [
    {
     "data": {
      "text/html": [
       "<div>\n",
       "<style scoped>\n",
       "    .dataframe tbody tr th:only-of-type {\n",
       "        vertical-align: middle;\n",
       "    }\n",
       "\n",
       "    .dataframe tbody tr th {\n",
       "        vertical-align: top;\n",
       "    }\n",
       "\n",
       "    .dataframe thead th {\n",
       "        text-align: right;\n",
       "    }\n",
       "</style>\n",
       "<table border=\"1\" class=\"dataframe\">\n",
       "  <thead>\n",
       "    <tr style=\"text-align: right;\">\n",
       "      <th></th>\n",
       "      <th>content</th>\n",
       "      <th>tags</th>\n",
       "      <th>question</th>\n",
       "    </tr>\n",
       "  </thead>\n",
       "  <tbody>\n",
       "    <tr>\n",
       "      <th>0</th>\n",
       "      <td>The manufacturer of the C3 probe is ATL.</td>\n",
       "      <td>[probes, manufacturer, ATL, C3]</td>\n",
       "      <td>Who is the manufacturer of the C3 probe?</td>\n",
       "    </tr>\n",
       "    <tr>\n",
       "      <th>1</th>\n",
       "      <td>The manufacturer of the C3 probe is ATL.</td>\n",
       "      <td>[probes, manufacturer, ATL, C3]</td>\n",
       "      <td>Is the manufacturer of the C3 probe ATL?</td>\n",
       "    </tr>\n",
       "    <tr>\n",
       "      <th>2</th>\n",
       "      <td>The manufacturer of the C3 probe is ATL.</td>\n",
       "      <td>[probes, manufacturer, ATL, C3]</td>\n",
       "      <td>Who makes the C3 probe?</td>\n",
       "    </tr>\n",
       "    <tr>\n",
       "      <th>3</th>\n",
       "      <td>The ATL C3 probe is compatible with the follow...</td>\n",
       "      <td>[probes, ATL, C3, compatibility, HDI 5000]</td>\n",
       "      <td>What systems is the ATL C3 probe compatible with?</td>\n",
       "    </tr>\n",
       "    <tr>\n",
       "      <th>4</th>\n",
       "      <td>The ATL C3 probe is compatible with the follow...</td>\n",
       "      <td>[probes, ATL, C3, compatibility, HDI 5000]</td>\n",
       "      <td>Does the ATL C3 probe work with the HDI 5000 s...</td>\n",
       "    </tr>\n",
       "    <tr>\n",
       "      <th>...</th>\n",
       "      <td>...</td>\n",
       "      <td>...</td>\n",
       "      <td>...</td>\n",
       "    </tr>\n",
       "    <tr>\n",
       "      <th>1003</th>\n",
       "      <td>The Cypress Portable ultrasound system is made...</td>\n",
       "      <td>[Siemens Acuson, Cypress Portable, manufacture...</td>\n",
       "      <td>Is the Cypress Portable system a product of Si...</td>\n",
       "    </tr>\n",
       "    <tr>\n",
       "      <th>1004</th>\n",
       "      <td>The Cypress Portable ultrasound system is made...</td>\n",
       "      <td>[Siemens Acuson, Cypress Portable, manufacture...</td>\n",
       "      <td>What company manufactures the Cypress Portable...</td>\n",
       "    </tr>\n",
       "    <tr>\n",
       "      <th>1005</th>\n",
       "      <td>The Siemens Acuson Cypress Portable ultrasound...</td>\n",
       "      <td>[Siemens Acuson, Cypress Portable, compatibili...</td>\n",
       "      <td>Which Siemens Acuson probes are compatible wit...</td>\n",
       "    </tr>\n",
       "    <tr>\n",
       "      <th>1006</th>\n",
       "      <td>The Siemens Acuson Cypress Portable ultrasound...</td>\n",
       "      <td>[Siemens Acuson, Cypress Portable, compatibili...</td>\n",
       "      <td>Is the 7V3c probe compatible with the Siemens ...</td>\n",
       "    </tr>\n",
       "    <tr>\n",
       "      <th>1007</th>\n",
       "      <td>The Siemens Acuson Cypress Portable ultrasound...</td>\n",
       "      <td>[Siemens Acuson, Cypress Portable, compatibili...</td>\n",
       "      <td>What probes work with the Siemens Acuson Cypre...</td>\n",
       "    </tr>\n",
       "  </tbody>\n",
       "</table>\n",
       "<p>1008 rows × 3 columns</p>\n",
       "</div>"
      ],
      "text/plain": [
       "                                                content  \\\n",
       "0              The manufacturer of the C3 probe is ATL.   \n",
       "1              The manufacturer of the C3 probe is ATL.   \n",
       "2              The manufacturer of the C3 probe is ATL.   \n",
       "3     The ATL C3 probe is compatible with the follow...   \n",
       "4     The ATL C3 probe is compatible with the follow...   \n",
       "...                                                 ...   \n",
       "1003  The Cypress Portable ultrasound system is made...   \n",
       "1004  The Cypress Portable ultrasound system is made...   \n",
       "1005  The Siemens Acuson Cypress Portable ultrasound...   \n",
       "1006  The Siemens Acuson Cypress Portable ultrasound...   \n",
       "1007  The Siemens Acuson Cypress Portable ultrasound...   \n",
       "\n",
       "                                                   tags  \\\n",
       "0                       [probes, manufacturer, ATL, C3]   \n",
       "1                       [probes, manufacturer, ATL, C3]   \n",
       "2                       [probes, manufacturer, ATL, C3]   \n",
       "3            [probes, ATL, C3, compatibility, HDI 5000]   \n",
       "4            [probes, ATL, C3, compatibility, HDI 5000]   \n",
       "...                                                 ...   \n",
       "1003  [Siemens Acuson, Cypress Portable, manufacture...   \n",
       "1004  [Siemens Acuson, Cypress Portable, manufacture...   \n",
       "1005  [Siemens Acuson, Cypress Portable, compatibili...   \n",
       "1006  [Siemens Acuson, Cypress Portable, compatibili...   \n",
       "1007  [Siemens Acuson, Cypress Portable, compatibili...   \n",
       "\n",
       "                                               question  \n",
       "0              Who is the manufacturer of the C3 probe?  \n",
       "1              Is the manufacturer of the C3 probe ATL?  \n",
       "2                               Who makes the C3 probe?  \n",
       "3     What systems is the ATL C3 probe compatible with?  \n",
       "4     Does the ATL C3 probe work with the HDI 5000 s...  \n",
       "...                                                 ...  \n",
       "1003  Is the Cypress Portable system a product of Si...  \n",
       "1004  What company manufactures the Cypress Portable...  \n",
       "1005  Which Siemens Acuson probes are compatible wit...  \n",
       "1006  Is the 7V3c probe compatible with the Siemens ...  \n",
       "1007  What probes work with the Siemens Acuson Cypre...  \n",
       "\n",
       "[1008 rows x 3 columns]"
      ]
     },
     "execution_count": 51,
     "metadata": {},
     "output_type": "execute_result"
    }
   ],
   "source": [
    "# Create a new DataFrame by exploding the 'questions' column\n",
    "questions_df = documents.explode('questions')\n",
    "questions_df = questions_df.reset_index(drop=True)\n",
    "questions_df = questions_df.rename(columns={'questions': 'question'})\n",
    "questions_df.to_csv(\"../data/questions_docs_tags.csv\")\n",
    "questions_df"
   ]
  },
  {
   "cell_type": "markdown",
   "metadata": {},
   "source": [
    "## Filtering out the questions that are not relevant using llama3 again\n",
    "\n",
    "Any document-query pairs that are marked irrelevant are exported, manually reviewed, and re-scored if neccessary before being joined back into the dataset.\n"
   ]
  },
  {
   "cell_type": "code",
   "execution_count": 74,
   "metadata": {},
   "outputs": [
    {
     "data": {
      "application/vnd.jupyter.widget-view+json": {
       "model_id": "7d20f9e842054b55a4cd66b213b51649",
       "version_major": 2,
       "version_minor": 0
      },
      "text/plain": [
       "Scoring Questions:   0%|          | 0/1008 [00:00<?, ?it/s]"
      ]
     },
     "metadata": {},
     "output_type": "display_data"
    },
    {
     "name": "stdout",
     "output_type": "stream",
     "text": [
      "                                             content  \\\n",
      "0           The manufacturer of the C3 probe is ATL.   \n",
      "1           The manufacturer of the C3 probe is ATL.   \n",
      "2           The manufacturer of the C3 probe is ATL.   \n",
      "3  The ATL C3 probe is compatible with the follow...   \n",
      "4  The ATL C3 probe is compatible with the follow...   \n",
      "\n",
      "                                         tags  \\\n",
      "0             (ATL, manufacturer, C3, probes)   \n",
      "1             (ATL, manufacturer, C3, probes)   \n",
      "2             (ATL, manufacturer, C3, probes)   \n",
      "3  (HDI 5000, ATL, probes, compatibility, C3)   \n",
      "4  (HDI 5000, ATL, probes, compatibility, C3)   \n",
      "\n",
      "                                            question  score  \n",
      "0           Who is the manufacturer of the C3 probe?      1  \n",
      "1           Is the manufacturer of the C3 probe ATL?      1  \n",
      "2                            Who makes the C3 probe?      1  \n",
      "3  What systems is the ATL C3 probe compatible with?      1  \n",
      "4  Does the ATL C3 probe work with the HDI 5000 s...      1  \n"
     ]
    }
   ],
   "source": [
    "# Define the prompt template for grading questions\n",
    "grading_prompt_template = PromptTemplate(\n",
    "    input_variables=[\"content\", \"question\"],\n",
    "    template=\"\"\"\n",
    "    Given the content: \"{content}\"\n",
    "    Can the following question be sufficiently answered?\n",
    "    Question: \"{question}\"\n",
    "    Your response should only consist of one number, either a 0 (meaning No) or 1 (meaning Yes).\n",
    "    \n",
    "    Example 1:\n",
    "    Content: \"The manufacturer of the C3 probe is ATL.\"\n",
    "    Question: \"Who is the manufacturer of the C3 probe?\"\n",
    "    Response: 1\n",
    "\n",
    "    Example 2:\n",
    "    Content: \"Who manufactures the EPIQ 7 ultrasound system?\"\n",
    "    Question: \"The Siemens Acuson 12L3 probe is compatible with the following systems: Juniper.\"\n",
    "    Response: 0\n",
    "    \"\"\"\n",
    ")\n",
    "\n",
    "# Set up logging\n",
    "logging.basicConfig(level=logging.INFO, format='%(levelname)s: %(message)s')\n",
    "\n",
    "# Precompile the regular expression for efficiency\n",
    "score_pattern = re.compile(r'\\b[01]\\b')\n",
    "\n",
    "def grade_question(content, question):\n",
    "    prompt = grading_prompt_template.format(content=content, question=question)\n",
    "    response = llm(prompt)\n",
    "    # Use the precompiled regular expression to find numbers in the response\n",
    "    matches = score_pattern.findall(response)\n",
    "    if matches:\n",
    "        # Assuming the first match is the relevant score\n",
    "        return int(matches[0])\n",
    "    else:\n",
    "        # Log the issue and return a default value\n",
    "        logging.warning(f\"No valid score found in response: {response}\")\n",
    "        return None  # or set a default value, or handle it in another way\n",
    "\n",
    "\n",
    "# Apply the grade_question function to each row to create a new 'score' column\n",
    "tqdm.pandas(desc=\"Scoring Questions\")\n",
    "questions_df['score'] = questions_df.progress_apply(lambda row: grade_question(row['content'], row['question']), axis=1)\n",
    "print(questions_df.head())"
   ]
  },
  {
   "cell_type": "code",
   "execution_count": 75,
   "metadata": {},
   "outputs": [
    {
     "data": {
      "text/html": [
       "<div>\n",
       "<style scoped>\n",
       "    .dataframe tbody tr th:only-of-type {\n",
       "        vertical-align: middle;\n",
       "    }\n",
       "\n",
       "    .dataframe tbody tr th {\n",
       "        vertical-align: top;\n",
       "    }\n",
       "\n",
       "    .dataframe thead th {\n",
       "        text-align: right;\n",
       "    }\n",
       "</style>\n",
       "<table border=\"1\" class=\"dataframe\">\n",
       "  <thead>\n",
       "    <tr style=\"text-align: right;\">\n",
       "      <th></th>\n",
       "      <th>content</th>\n",
       "      <th>tags</th>\n",
       "      <th>question</th>\n",
       "      <th>score</th>\n",
       "    </tr>\n",
       "  </thead>\n",
       "  <tbody>\n",
       "    <tr>\n",
       "      <th>11</th>\n",
       "      <td>The ATL C3 probe is suitable for the following...</td>\n",
       "      <td>(abdominal, general, ATL, probes, applications...</td>\n",
       "      <td>Are there any other uses for the ATL C3 transd...</td>\n",
       "      <td>0</td>\n",
       "    </tr>\n",
       "    <tr>\n",
       "      <th>12</th>\n",
       "      <td>The ATL C3 probe is currently out of stock or ...</td>\n",
       "      <td>(ATL, C3, stock, probes)</td>\n",
       "      <td>Is the ATL C3 probe currently in stock?</td>\n",
       "      <td>0</td>\n",
       "    </tr>\n",
       "    <tr>\n",
       "      <th>13</th>\n",
       "      <td>The ATL C3 probe is currently out of stock or ...</td>\n",
       "      <td>(ATL, C3, stock, probes)</td>\n",
       "      <td>Can you still purchase the ATL C3 probe?</td>\n",
       "      <td>0</td>\n",
       "    </tr>\n",
       "    <tr>\n",
       "      <th>14</th>\n",
       "      <td>The ATL C3 probe is currently out of stock or ...</td>\n",
       "      <td>(ATL, C3, stock, probes)</td>\n",
       "      <td>Are there any ATL C3 probes available for sale?</td>\n",
       "      <td>0</td>\n",
       "    </tr>\n",
       "    <tr>\n",
       "      <th>22</th>\n",
       "      <td>The ATL C4-2 probe is compatible with the foll...</td>\n",
       "      <td>(HDI 5000, C4-2, ATL, probes, compatibility)</td>\n",
       "      <td>Is the ATL C4-2 probe only used with HDI 5000 ...</td>\n",
       "      <td>0</td>\n",
       "    </tr>\n",
       "    <tr>\n",
       "      <th>...</th>\n",
       "      <td>...</td>\n",
       "      <td>...</td>\n",
       "      <td>...</td>\n",
       "      <td>...</td>\n",
       "    </tr>\n",
       "    <tr>\n",
       "      <th>881</th>\n",
       "      <td>The G.E. Vivid E95 ultrasound system is compat...</td>\n",
       "      <td>(systems, G.E., Vivid E95, compatibility, RIC5...</td>\n",
       "      <td>Which G.E. probe is compatible with both the L...</td>\n",
       "      <td>0</td>\n",
       "    </tr>\n",
       "    <tr>\n",
       "      <th>896</th>\n",
       "      <td>The EPIQ 5 ultrasound system is made by Philips.</td>\n",
       "      <td>(EPIQ 5, systems, Philips, manufacturer)</td>\n",
       "      <td>What company manufactures the EPIQ 5 transducer?</td>\n",
       "      <td>0</td>\n",
       "    </tr>\n",
       "    <tr>\n",
       "      <th>928</th>\n",
       "      <td>The Philips iE33 ultrasound system is compatib...</td>\n",
       "      <td>(C5-1, C8-5, L12-3, S4-1, S4-2, systems, compa...</td>\n",
       "      <td>Are the C5-1, C8-5, L12-3, S4-1, and S4-2 prob...</td>\n",
       "      <td>0</td>\n",
       "    </tr>\n",
       "    <tr>\n",
       "      <th>988</th>\n",
       "      <td>The Siemens Acuson Juniper ultrasound system i...</td>\n",
       "      <td>(systems, Siemens Acuson, compatibility, Junip...</td>\n",
       "      <td>Are all Siemens Acuson probes compatible with ...</td>\n",
       "      <td>0</td>\n",
       "    </tr>\n",
       "    <tr>\n",
       "      <th>1001</th>\n",
       "      <td>The Siemens Acuson Sequoia 512 ultrasound syst...</td>\n",
       "      <td>(systems, Siemens Acuson, compatibility, Sequo...</td>\n",
       "      <td>Does the Siemens Acuson Sequoia 512 system sup...</td>\n",
       "      <td>0</td>\n",
       "    </tr>\n",
       "  </tbody>\n",
       "</table>\n",
       "<p>95 rows × 4 columns</p>\n",
       "</div>"
      ],
      "text/plain": [
       "                                                content  \\\n",
       "11    The ATL C3 probe is suitable for the following...   \n",
       "12    The ATL C3 probe is currently out of stock or ...   \n",
       "13    The ATL C3 probe is currently out of stock or ...   \n",
       "14    The ATL C3 probe is currently out of stock or ...   \n",
       "22    The ATL C4-2 probe is compatible with the foll...   \n",
       "...                                                 ...   \n",
       "881   The G.E. Vivid E95 ultrasound system is compat...   \n",
       "896    The EPIQ 5 ultrasound system is made by Philips.   \n",
       "928   The Philips iE33 ultrasound system is compatib...   \n",
       "988   The Siemens Acuson Juniper ultrasound system i...   \n",
       "1001  The Siemens Acuson Sequoia 512 ultrasound syst...   \n",
       "\n",
       "                                                   tags  \\\n",
       "11    (abdominal, general, ATL, probes, applications...   \n",
       "12                             (ATL, C3, stock, probes)   \n",
       "13                             (ATL, C3, stock, probes)   \n",
       "14                             (ATL, C3, stock, probes)   \n",
       "22         (HDI 5000, C4-2, ATL, probes, compatibility)   \n",
       "...                                                 ...   \n",
       "881   (systems, G.E., Vivid E95, compatibility, RIC5...   \n",
       "896            (EPIQ 5, systems, Philips, manufacturer)   \n",
       "928   (C5-1, C8-5, L12-3, S4-1, S4-2, systems, compa...   \n",
       "988   (systems, Siemens Acuson, compatibility, Junip...   \n",
       "1001  (systems, Siemens Acuson, compatibility, Sequo...   \n",
       "\n",
       "                                               question  score  \n",
       "11    Are there any other uses for the ATL C3 transd...      0  \n",
       "12              Is the ATL C3 probe currently in stock?      0  \n",
       "13             Can you still purchase the ATL C3 probe?      0  \n",
       "14      Are there any ATL C3 probes available for sale?      0  \n",
       "22    Is the ATL C4-2 probe only used with HDI 5000 ...      0  \n",
       "...                                                 ...    ...  \n",
       "881   Which G.E. probe is compatible with both the L...      0  \n",
       "896    What company manufactures the EPIQ 5 transducer?      0  \n",
       "928   Are the C5-1, C8-5, L12-3, S4-1, and S4-2 prob...      0  \n",
       "988   Are all Siemens Acuson probes compatible with ...      0  \n",
       "1001  Does the Siemens Acuson Sequoia 512 system sup...      0  \n",
       "\n",
       "[95 rows x 4 columns]"
      ]
     },
     "execution_count": 75,
     "metadata": {},
     "output_type": "execute_result"
    }
   ],
   "source": [
    "filtered_df = questions_df[questions_df['score'].isin([0, None])]\n",
    "filtered_df"
   ]
  },
  {
   "cell_type": "markdown",
   "metadata": {},
   "source": [
    "Exporting for manual review"
   ]
  },
  {
   "cell_type": "code",
   "execution_count": 76,
   "metadata": {},
   "outputs": [],
   "source": [
    "#filtered_df.to_csv(\"../data/filtered_questions_for_correction.csv\")"
   ]
  },
  {
   "cell_type": "markdown",
   "metadata": {},
   "source": [
    "Re-importing manually reviewed pairs"
   ]
  },
  {
   "cell_type": "code",
   "execution_count": null,
   "metadata": {},
   "outputs": [],
   "source": [
    "#corrected_questions_df = pd.read_csv(\"../data/corrected_questions.csv\")\n",
    "\n",
    "# Drop the old rows from questions_df\n",
    "#fine_tuning_dataset = questions_df.drop(filtered_df.index)\n",
    "\n",
    "# Append the corrected rows to the original DataFrame\n",
    "#fine_tuning_dataset = pd.concat([fine_tuning_dataset, corrected_questions_df], ignore_index=True)\n",
    "#fine_tuning_dataset = fine_tuning_dataset[fine_tuning_dataset['score'] == 1].drop(columns=['score'])\n",
    "#fine_tuning_dataset\n",
    "\n"
   ]
  },
  {
   "cell_type": "code",
   "execution_count": null,
   "metadata": {},
   "outputs": [],
   "source": [
    "# Generate unique IDs for queries and documents based on their content\n",
    "#document_ids = {doc: idx for idx, doc in enumerate(fine_tuning_dataset['content'].unique())}\n",
    "#fine_tuning_dataset['doc_id'] = fine_tuning_dataset['content'].map(document_ids)\n",
    "#fine_tuning_dataset['query_id'] = range(len(fine_tuning_dataset))\n",
    "\n",
    "#fine_tuning_dataset.to_pickle('../data/fine_tuning_dataset.pkl')"
   ]
  },
  {
   "cell_type": "markdown",
   "metadata": {},
   "source": [
    "## Start here to import cleaned question-document dataset"
   ]
  },
  {
   "cell_type": "code",
   "execution_count": 2,
   "metadata": {},
   "outputs": [
    {
     "data": {
      "text/html": [
       "<div>\n",
       "<style scoped>\n",
       "    .dataframe tbody tr th:only-of-type {\n",
       "        vertical-align: middle;\n",
       "    }\n",
       "\n",
       "    .dataframe tbody tr th {\n",
       "        vertical-align: top;\n",
       "    }\n",
       "\n",
       "    .dataframe thead th {\n",
       "        text-align: right;\n",
       "    }\n",
       "</style>\n",
       "<table border=\"1\" class=\"dataframe\">\n",
       "  <thead>\n",
       "    <tr style=\"text-align: right;\">\n",
       "      <th></th>\n",
       "      <th>question</th>\n",
       "      <th>content</th>\n",
       "      <th>labels</th>\n",
       "      <th>doc_id</th>\n",
       "      <th>query_id</th>\n",
       "    </tr>\n",
       "  </thead>\n",
       "  <tbody>\n",
       "    <tr>\n",
       "      <th>0</th>\n",
       "      <td>What is the frequency range of the G.E. RIC5-9...</td>\n",
       "      <td>The frequency range of the G.E. RIC5-9D probe ...</td>\n",
       "      <td>1.0</td>\n",
       "      <td>0</td>\n",
       "      <td>0</td>\n",
       "    </tr>\n",
       "    <tr>\n",
       "      <th>4</th>\n",
       "      <td>What applications is the Philips C8-4v probe s...</td>\n",
       "      <td>The Philips C8-4v probe is suitable for the fo...</td>\n",
       "      <td>1.0</td>\n",
       "      <td>2</td>\n",
       "      <td>4</td>\n",
       "    </tr>\n",
       "    <tr>\n",
       "      <th>5</th>\n",
       "      <td>Is the Philips C5-2 probe currently available ...</td>\n",
       "      <td>The Philips C5-2 probe is currently in stock a...</td>\n",
       "      <td>1.0</td>\n",
       "      <td>3</td>\n",
       "      <td>5</td>\n",
       "    </tr>\n",
       "    <tr>\n",
       "      <th>7</th>\n",
       "      <td>Is the HDI 1500 ultrasound system made by ATL?</td>\n",
       "      <td>The HDI 1500 ultrasound system is made by ATL.</td>\n",
       "      <td>1.0</td>\n",
       "      <td>4</td>\n",
       "      <td>7</td>\n",
       "    </tr>\n",
       "    <tr>\n",
       "      <th>11</th>\n",
       "      <td>Is the ATL C4-2 probe used in general medicine?</td>\n",
       "      <td>The ATL C4-2 probe is suitable for the followi...</td>\n",
       "      <td>1.0</td>\n",
       "      <td>5</td>\n",
       "      <td>11</td>\n",
       "    </tr>\n",
       "    <tr>\n",
       "      <th>...</th>\n",
       "      <td>...</td>\n",
       "      <td>...</td>\n",
       "      <td>...</td>\n",
       "      <td>...</td>\n",
       "      <td>...</td>\n",
       "    </tr>\n",
       "    <tr>\n",
       "      <th>1916</th>\n",
       "      <td>Are there any Philips L17-5 probes available f...</td>\n",
       "      <td>The Philips L17-5 probe is currently in stock ...</td>\n",
       "      <td>1.0</td>\n",
       "      <td>195</td>\n",
       "      <td>1916</td>\n",
       "    </tr>\n",
       "    <tr>\n",
       "      <th>1917</th>\n",
       "      <td>Which ultrasound machine is the G.E. 348c tran...</td>\n",
       "      <td>The G.E. 348c probe is compatible with the fol...</td>\n",
       "      <td>1.0</td>\n",
       "      <td>313</td>\n",
       "      <td>1917</td>\n",
       "    </tr>\n",
       "    <tr>\n",
       "      <th>1920</th>\n",
       "      <td>What can the ATL C7-4 probe be used for?</td>\n",
       "      <td>The ATL C7-4 probe is suitable for the followi...</td>\n",
       "      <td>1.0</td>\n",
       "      <td>183</td>\n",
       "      <td>1920</td>\n",
       "    </tr>\n",
       "    <tr>\n",
       "      <th>1923</th>\n",
       "      <td>What kind of array is the ATL C8-4v?</td>\n",
       "      <td>The ATL C8-4v is a convex array type probe.</td>\n",
       "      <td>1.0</td>\n",
       "      <td>279</td>\n",
       "      <td>1923</td>\n",
       "    </tr>\n",
       "    <tr>\n",
       "      <th>1924</th>\n",
       "      <td>Can you use a RIC5-9D probe on the Voluson E6 ...</td>\n",
       "      <td>The G.E. Voluson E6 ultrasound system is compa...</td>\n",
       "      <td>1.0</td>\n",
       "      <td>303</td>\n",
       "      <td>1924</td>\n",
       "    </tr>\n",
       "  </tbody>\n",
       "</table>\n",
       "<p>963 rows × 5 columns</p>\n",
       "</div>"
      ],
      "text/plain": [
       "                                               question  \\\n",
       "0     What is the frequency range of the G.E. RIC5-9...   \n",
       "4     What applications is the Philips C8-4v probe s...   \n",
       "5     Is the Philips C5-2 probe currently available ...   \n",
       "7        Is the HDI 1500 ultrasound system made by ATL?   \n",
       "11      Is the ATL C4-2 probe used in general medicine?   \n",
       "...                                                 ...   \n",
       "1916  Are there any Philips L17-5 probes available f...   \n",
       "1917  Which ultrasound machine is the G.E. 348c tran...   \n",
       "1920           What can the ATL C7-4 probe be used for?   \n",
       "1923               What kind of array is the ATL C8-4v?   \n",
       "1924  Can you use a RIC5-9D probe on the Voluson E6 ...   \n",
       "\n",
       "                                                content  labels  doc_id  \\\n",
       "0     The frequency range of the G.E. RIC5-9D probe ...     1.0       0   \n",
       "4     The Philips C8-4v probe is suitable for the fo...     1.0       2   \n",
       "5     The Philips C5-2 probe is currently in stock a...     1.0       3   \n",
       "7        The HDI 1500 ultrasound system is made by ATL.     1.0       4   \n",
       "11    The ATL C4-2 probe is suitable for the followi...     1.0       5   \n",
       "...                                                 ...     ...     ...   \n",
       "1916  The Philips L17-5 probe is currently in stock ...     1.0     195   \n",
       "1917  The G.E. 348c probe is compatible with the fol...     1.0     313   \n",
       "1920  The ATL C7-4 probe is suitable for the followi...     1.0     183   \n",
       "1923        The ATL C8-4v is a convex array type probe.     1.0     279   \n",
       "1924  The G.E. Voluson E6 ultrasound system is compa...     1.0     303   \n",
       "\n",
       "      query_id  \n",
       "0            0  \n",
       "4            4  \n",
       "5            5  \n",
       "7            7  \n",
       "11          11  \n",
       "...        ...  \n",
       "1916      1916  \n",
       "1917      1917  \n",
       "1920      1920  \n",
       "1923      1923  \n",
       "1924      1924  \n",
       "\n",
       "[963 rows x 5 columns]"
      ]
     },
     "execution_count": 2,
     "metadata": {},
     "output_type": "execute_result"
    }
   ],
   "source": [
    "# Loading from Pickle\n",
    "fine_tuning_dataset = pd.read_pickle('../data/fine_tuning_dataset.pkl')\n",
    "fine_tuning_dataset = fine_tuning_dataset[fine_tuning_dataset['labels'] == 1.0]\n",
    "fine_tuning_dataset"
   ]
  },
  {
   "cell_type": "markdown",
   "metadata": {},
   "source": [
    "## Evaluating pre-trained embedding models"
   ]
  },
  {
   "cell_type": "code",
   "execution_count": 3,
   "metadata": {},
   "outputs": [
    {
     "data": {
      "text/html": [
       "<div>\n",
       "<style scoped>\n",
       "    .dataframe tbody tr th:only-of-type {\n",
       "        vertical-align: middle;\n",
       "    }\n",
       "\n",
       "    .dataframe tbody tr th {\n",
       "        vertical-align: top;\n",
       "    }\n",
       "\n",
       "    .dataframe thead th {\n",
       "        text-align: right;\n",
       "    }\n",
       "</style>\n",
       "<table border=\"1\" class=\"dataframe\">\n",
       "  <thead>\n",
       "    <tr style=\"text-align: right;\">\n",
       "      <th></th>\n",
       "      <th>question</th>\n",
       "      <th>content</th>\n",
       "      <th>labels</th>\n",
       "      <th>doc_id</th>\n",
       "      <th>query_id</th>\n",
       "      <th>tags</th>\n",
       "    </tr>\n",
       "  </thead>\n",
       "  <tbody>\n",
       "    <tr>\n",
       "      <th>0</th>\n",
       "      <td>What is the frequency range of the G.E. RIC5-9...</td>\n",
       "      <td>The frequency range of the G.E. RIC5-9D probe ...</td>\n",
       "      <td>1.0</td>\n",
       "      <td>0</td>\n",
       "      <td>0</td>\n",
       "      <td>frozenset({'G.E.', 'frequency', 'RIC5-9D', 'pr...</td>\n",
       "    </tr>\n",
       "    <tr>\n",
       "      <th>1</th>\n",
       "      <td>What applications is the Philips C8-4v probe s...</td>\n",
       "      <td>The Philips C8-4v probe is suitable for the fo...</td>\n",
       "      <td>1.0</td>\n",
       "      <td>2</td>\n",
       "      <td>4</td>\n",
       "      <td>frozenset({'transvaginal, transrectal, gynecol...</td>\n",
       "    </tr>\n",
       "    <tr>\n",
       "      <th>2</th>\n",
       "      <td>Is the Philips C5-2 probe currently available ...</td>\n",
       "      <td>The Philips C5-2 probe is currently in stock a...</td>\n",
       "      <td>1.0</td>\n",
       "      <td>3</td>\n",
       "      <td>5</td>\n",
       "      <td>frozenset({'stock', 'C5-2', 'Philips', 'probes...</td>\n",
       "    </tr>\n",
       "    <tr>\n",
       "      <th>3</th>\n",
       "      <td>Is the HDI 1500 ultrasound system made by ATL?</td>\n",
       "      <td>The HDI 1500 ultrasound system is made by ATL.</td>\n",
       "      <td>1.0</td>\n",
       "      <td>4</td>\n",
       "      <td>7</td>\n",
       "      <td>frozenset({'manufacturer', 'systems', 'HDI 150...</td>\n",
       "    </tr>\n",
       "    <tr>\n",
       "      <th>4</th>\n",
       "      <td>Is the ATL C4-2 probe used in general medicine?</td>\n",
       "      <td>The ATL C4-2 probe is suitable for the followi...</td>\n",
       "      <td>1.0</td>\n",
       "      <td>5</td>\n",
       "      <td>11</td>\n",
       "      <td>frozenset({'C4-2', 'ATL', 'abdominal, obstetri...</td>\n",
       "    </tr>\n",
       "    <tr>\n",
       "      <th>...</th>\n",
       "      <td>...</td>\n",
       "      <td>...</td>\n",
       "      <td>...</td>\n",
       "      <td>...</td>\n",
       "      <td>...</td>\n",
       "      <td>...</td>\n",
       "    </tr>\n",
       "    <tr>\n",
       "      <th>958</th>\n",
       "      <td>Are there any Philips L17-5 probes available f...</td>\n",
       "      <td>The Philips L17-5 probe is currently in stock ...</td>\n",
       "      <td>1.0</td>\n",
       "      <td>195</td>\n",
       "      <td>1916</td>\n",
       "      <td>frozenset({'stock', 'L17-5', 'Philips', 'probe...</td>\n",
       "    </tr>\n",
       "    <tr>\n",
       "      <th>959</th>\n",
       "      <td>Which ultrasound machine is the G.E. 348c tran...</td>\n",
       "      <td>The G.E. 348c probe is compatible with the fol...</td>\n",
       "      <td>1.0</td>\n",
       "      <td>313</td>\n",
       "      <td>1917</td>\n",
       "      <td>frozenset({'G.E.', 'LOGIQ 700', 'probes', 'com...</td>\n",
       "    </tr>\n",
       "    <tr>\n",
       "      <th>960</th>\n",
       "      <td>What can the ATL C7-4 probe be used for?</td>\n",
       "      <td>The ATL C7-4 probe is suitable for the followi...</td>\n",
       "      <td>1.0</td>\n",
       "      <td>183</td>\n",
       "      <td>1920</td>\n",
       "      <td>frozenset({'C7-4', 'cardiac, vascular, general...</td>\n",
       "    </tr>\n",
       "    <tr>\n",
       "      <th>961</th>\n",
       "      <td>What kind of array is the ATL C8-4v?</td>\n",
       "      <td>The ATL C8-4v is a convex array type probe.</td>\n",
       "      <td>1.0</td>\n",
       "      <td>279</td>\n",
       "      <td>1923</td>\n",
       "      <td>frozenset({'ATL', 'array type', 'C8-4v', 'prob...</td>\n",
       "    </tr>\n",
       "    <tr>\n",
       "      <th>962</th>\n",
       "      <td>Can you use a RIC5-9D probe on the Voluson E6 ...</td>\n",
       "      <td>The G.E. Voluson E6 ultrasound system is compa...</td>\n",
       "      <td>1.0</td>\n",
       "      <td>303</td>\n",
       "      <td>1924</td>\n",
       "      <td>frozenset({'systems', 'G.E.', 'compatibility',...</td>\n",
       "    </tr>\n",
       "  </tbody>\n",
       "</table>\n",
       "<p>963 rows × 6 columns</p>\n",
       "</div>"
      ],
      "text/plain": [
       "                                              question  \\\n",
       "0    What is the frequency range of the G.E. RIC5-9...   \n",
       "1    What applications is the Philips C8-4v probe s...   \n",
       "2    Is the Philips C5-2 probe currently available ...   \n",
       "3       Is the HDI 1500 ultrasound system made by ATL?   \n",
       "4      Is the ATL C4-2 probe used in general medicine?   \n",
       "..                                                 ...   \n",
       "958  Are there any Philips L17-5 probes available f...   \n",
       "959  Which ultrasound machine is the G.E. 348c tran...   \n",
       "960           What can the ATL C7-4 probe be used for?   \n",
       "961               What kind of array is the ATL C8-4v?   \n",
       "962  Can you use a RIC5-9D probe on the Voluson E6 ...   \n",
       "\n",
       "                                               content  labels  doc_id  \\\n",
       "0    The frequency range of the G.E. RIC5-9D probe ...     1.0       0   \n",
       "1    The Philips C8-4v probe is suitable for the fo...     1.0       2   \n",
       "2    The Philips C5-2 probe is currently in stock a...     1.0       3   \n",
       "3       The HDI 1500 ultrasound system is made by ATL.     1.0       4   \n",
       "4    The ATL C4-2 probe is suitable for the followi...     1.0       5   \n",
       "..                                                 ...     ...     ...   \n",
       "958  The Philips L17-5 probe is currently in stock ...     1.0     195   \n",
       "959  The G.E. 348c probe is compatible with the fol...     1.0     313   \n",
       "960  The ATL C7-4 probe is suitable for the followi...     1.0     183   \n",
       "961        The ATL C8-4v is a convex array type probe.     1.0     279   \n",
       "962  The G.E. Voluson E6 ultrasound system is compa...     1.0     303   \n",
       "\n",
       "     query_id                                               tags  \n",
       "0           0  frozenset({'G.E.', 'frequency', 'RIC5-9D', 'pr...  \n",
       "1           4  frozenset({'transvaginal, transrectal, gynecol...  \n",
       "2           5  frozenset({'stock', 'C5-2', 'Philips', 'probes...  \n",
       "3           7  frozenset({'manufacturer', 'systems', 'HDI 150...  \n",
       "4          11  frozenset({'C4-2', 'ATL', 'abdominal, obstetri...  \n",
       "..        ...                                                ...  \n",
       "958      1916  frozenset({'stock', 'L17-5', 'Philips', 'probe...  \n",
       "959      1917  frozenset({'G.E.', 'LOGIQ 700', 'probes', 'com...  \n",
       "960      1920  frozenset({'C7-4', 'cardiac, vascular, general...  \n",
       "961      1923  frozenset({'ATL', 'array type', 'C8-4v', 'prob...  \n",
       "962      1924  frozenset({'systems', 'G.E.', 'compatibility',...  \n",
       "\n",
       "[963 rows x 6 columns]"
      ]
     },
     "execution_count": 3,
     "metadata": {},
     "output_type": "execute_result"
    }
   ],
   "source": [
    "# Merging back the tags with the fine-tuning dataset\n",
    "tags_df = pd.read_csv(\"../data/questions_docs_tags.csv\")\n",
    "tags_df = tags_df.drop(columns=['Unnamed: 0'])\n",
    "tags_df_unique = tags_df.groupby('content')['tags'].apply(lambda x: ','.join(x)).reset_index()\n",
    "merged_df = pd.merge(fine_tuning_dataset, tags_df_unique[['content', 'tags']], on='content', how='left')\n",
    "merged_df = merged_df[merged_df['labels'] == 1.0]\n",
    "merged_df\n"
   ]
  },
  {
   "cell_type": "code",
   "execution_count": 4,
   "metadata": {},
   "outputs": [
    {
     "name": "stderr",
     "output_type": "stream",
     "text": [
      "You try to use a model that was created with version 3.0.0.dev0, however, your version is 3.0.0. This might cause unexpected behavior or errors. In that case, try to update to the latest version.\n",
      "\n",
      "\n",
      "\n"
     ]
    }
   ],
   "source": [
    "# Load the models\n",
    "models = {\n",
    "    'multi-qa-mpnet-base-dot-v1': SentenceTransformer('multi-qa-mpnet-base-dot-v1'),\n",
    "    'all-mpnet-base-v2': SentenceTransformer('all-mpnet-base-v2'),\n",
    "    'multi-qa-distilbert-cos-v1': SentenceTransformer('multi-qa-distilbert-cos-v1')\n",
    "}\n",
    "\n",
    "# Generate embeddings for the content and questions\n",
    "embeddings = {}\n",
    "for model_name, model in models.items():\n",
    "    embeddings[model_name] = {\n",
    "        'content': model.encode(merged_df['content'].tolist(), convert_to_tensor=True, show_progress_bar=False),\n",
    "        'question': model.encode(merged_df['question'].tolist(), convert_to_tensor=True, show_progress_bar=False)\n",
    "    }\n",
    "\n"
   ]
  },
  {
   "cell_type": "code",
   "execution_count": 5,
   "metadata": {},
   "outputs": [],
   "source": [
    "def compute_rr(embeddings, ranking_method):\n",
    "    results_df = merged_df.copy()\n",
    "    results_df['absolute_rank'] = 0\n",
    "    results_df['rr'] = 0.0\n",
    "\n",
    "    for i, question in enumerate(merged_df['question']):\n",
    "        relevant_doc = merged_df['content'].iloc[i]\n",
    "        query_emb = embeddings['question'][i].unsqueeze(0)  # Add batch dimension\n",
    "\n",
    "        if ranking_method == 'dot_score':\n",
    "            scores = util.dot_score(query_emb, embeddings['content'])[0].cpu().tolist()\n",
    "        elif ranking_method == 'cos_sim':\n",
    "            scores = util.cos_sim(query_emb, embeddings['content'])[0].cpu().tolist()\n",
    "\n",
    "        # Combine docs & scores\n",
    "        doc_score_pairs = list(zip(merged_df['content'], scores))\n",
    "\n",
    "        # Sort by decreasing score\n",
    "        doc_score_pairs = sorted(doc_score_pairs, key=lambda x: x[1], reverse=True)\n",
    "\n",
    "        # Find the rank of the first relevant document\n",
    "        matching_indices = [idx for idx, (doc, score) in enumerate(doc_score_pairs) if doc == relevant_doc]\n",
    "        if len(matching_indices) > 0:\n",
    "            rank = matching_indices[0] + 1\n",
    "        else:\n",
    "            rank = len(doc_score_pairs) + 1  # Relevant document not found\n",
    "\n",
    "        # Calculate reciprocal rank\n",
    "        rr = 1 / rank\n",
    "\n",
    "        # Update the corresponding row in results_df\n",
    "        results_df.at[i, 'absolute_rank'] = rank\n",
    "        results_df.at[i, 'rr'] = rr\n",
    "\n",
    "    return results_df\n",
    "\n",
    "# Compute RR for each model and ranking method\n",
    "results = {\n",
    "    'multi-qa-mpnet-base-dot-v1': compute_rr(embeddings['multi-qa-mpnet-base-dot-v1'], 'dot_score'),\n",
    "    'all-mpnet-base-v2': compute_rr(embeddings['all-mpnet-base-v2'], 'dot_score'),\n",
    "    'multi-qa-distilbert-cos-v1': compute_rr(embeddings['multi-qa-distilbert-cos-v1'], 'cos_sim')\n",
    "}"
   ]
  },
  {
   "cell_type": "code",
   "execution_count": 7,
   "metadata": {},
   "outputs": [
    {
     "data": {
      "image/png": "[encoded data removed]",
      "text/plain": [
       "<Figure size 600x700 with 3 Axes>"
      ]
     },
     "metadata": {},
     "output_type": "display_data"
    }
   ],
   "source": [
    "# Define the order of models\n",
    "model_order = ['all-mpnet-base-v2', 'multi-qa-mpnet-base-dot-v1', 'multi-qa-distilbert-cos-v1']\n",
    "\n",
    "# Filter RR values for different 'probes' and 'systems' question types\n",
    "probe_types = ['manufacturer', 'compatibility', 'array type', 'applications', 'stock', 'frequency']\n",
    "system_types = ['manufacturer', 'compatibility']\n",
    "\n",
    "results_rr_by_type = {key: {ptype: df[df['tags'].apply(lambda x: 'probes' in x and ptype in x)]['rr'].dropna() for ptype in probe_types} for key, df in results.items()}\n",
    "\n",
    "# Add 'systems' question types to the results\n",
    "for key, df in results.items():\n",
    "    results_rr_by_type[key].update({f'systems_{stype}': df[df['tags'].apply(lambda x: 'systems' in x and stype in x)]['rr'].dropna() for stype in system_types})\n",
    "\n",
    "# Define the complete list of question types\n",
    "all_types = probe_types + [f'systems_{stype}' for stype in system_types]\n",
    "labels = [ptype.capitalize() for ptype in probe_types] + [f'Sys {stype.capitalize()}' for stype in system_types]\n",
    "\n",
    "# Create the boxplot\n",
    "fig, ax = plt.subplots(len(model_order), 1, figsize=(6, 7))  # Adjust the figure size\n",
    "\n",
    "for i, model_key in enumerate(model_order):\n",
    "    rr_by_type = results_rr_by_type[model_key]\n",
    "    data = [rr_by_type[ptype] for ptype in all_types if ptype in rr_by_type]\n",
    "    box = ax[i].boxplot(data, vert=True, patch_artist=True, medianprops=dict(color='yellow', alpha=0.5), boxprops=dict(facecolor='cyan', alpha=0.3, edgecolor='cyan'), capprops=dict(color='cyan', alpha=0.3), whiskerprops=dict(color='yellow'), flierprops=dict(markeredgecolor='yellow', markerfacecolor='yellow', alpha=0.3))\n",
    "    ax[i].set_xticklabels(labels, rotation=45, fontsize=8)  # Reduced font size for x-tick labels\n",
    "    ax[i].set_ylabel('RR', fontsize=10)  # Reduced font size for y-label\n",
    "    ax[i].set_title(f'{model_key} Reciprocal Rank Distribution by Question Type', fontsize=12)  # Reduced font size for title\n",
    "\n",
    "    mplcyberpunk.make_lines_glow(ax[i])\n",
    "\n",
    "plt.tight_layout()\n",
    "plt.show()"
   ]
  },
  {
   "cell_type": "markdown",
   "metadata": {},
   "source": [
    "Levene's to test variance homogeneity across models and whether to use a parametric or non-parametric test.\n",
    "\n",
    "- Null Hypothesis (H0): The variances of MRR scores are equal across the different models.\n",
    "- Alternative Hypothesis (H1): The variances of MRR scores are not equal across the different models."
   ]
  },
  {
   "cell_type": "code",
   "execution_count": 15,
   "metadata": {},
   "outputs": [
    {
     "name": "stdout",
     "output_type": "stream",
     "text": [
      "Levene's test by model p-value = 2.787789801080547e-14\n"
     ]
    }
   ],
   "source": [
    "# Prepare data for Levene's test by model\n",
    "data_by_model = {model_key: [] for model_key in model_order}\n",
    "for model_key in model_order:\n",
    "    for ptype in all_types:\n",
    "        if ptype in results_rr_by_type[model_key]:\n",
    "            data_by_model[model_key].extend(results_rr_by_type[model_key][ptype])\n",
    "\n",
    "# Perform Levene's test by model\n",
    "levene_result_by_model = levene(*data_by_model.values())\n",
    "\n",
    "# Check the result\n",
    "print(f\"Levene's test by model p-value = {levene_result_by_model.pvalue}\")"
   ]
  },
  {
   "cell_type": "markdown",
   "metadata": {},
   "source": [
    "The variances of MRR scores are not equal across the different models so we will use Friedman Test (non parametric repeated measure one-way ANOVA) and Nemenyi post hoc test"
   ]
  },
  {
   "cell_type": "code",
   "execution_count": 21,
   "metadata": {},
   "outputs": [
    {
     "data": {
      "image/png": "[encoded data removed]",
      "text/plain": [
       "<Figure size 500x275 with 1 Axes>"
      ]
     },
     "metadata": {},
     "output_type": "display_data"
    },
    {
     "data": {
      "image/png": "[encoded data removed]",
      "text/plain": [
       "<Figure size 500x275 with 1 Axes>"
      ]
     },
     "metadata": {},
     "output_type": "display_data"
    },
    {
     "data": {
      "image/png": "[encoded data removed]",
      "text/plain": [
       "<Figure size 500x275 with 1 Axes>"
      ]
     },
     "metadata": {},
     "output_type": "display_data"
    },
    {
     "data": {
      "image/png": "[encoded data removed]",
      "text/plain": [
       "<Figure size 500x275 with 1 Axes>"
      ]
     },
     "metadata": {},
     "output_type": "display_data"
    },
    {
     "data": {
      "image/png": "[encoded data removed]",
      "text/plain": [
       "<Figure size 500x275 with 1 Axes>"
      ]
     },
     "metadata": {},
     "output_type": "display_data"
    },
    {
     "data": {
      "image/png": "[encoded data removed]",
      "text/plain": [
       "<Figure size 500x275 with 1 Axes>"
      ]
     },
     "metadata": {},
     "output_type": "display_data"
    }
   ],
   "source": [
    "# Calculate means and standard errors\n",
    "mean_rr_by_type = {}\n",
    "se_rr_by_type = {}\n",
    "friedman_results = {}\n",
    "\n",
    "for ptype in all_types:\n",
    "    mean_rr_by_type[ptype] = []\n",
    "    se_rr_by_type[ptype] = []\n",
    "    friedman_data = []\n",
    "    for model_name in model_order:  # Use the defined model order\n",
    "        rr_by_type = results_rr_by_type[model_name][ptype]\n",
    "        mean_rr = np.mean(rr_by_type)\n",
    "        se_rr = np.std(rr_by_type) / np.sqrt(len(rr_by_type))  # Standard Error of the mean\n",
    "        mean_rr_by_type[ptype].append(mean_rr)\n",
    "        se_rr_by_type[ptype].append(se_rr)\n",
    "        friedman_data.append(rr_by_type)\n",
    "\n",
    "    # Perform Friedman Test\n",
    "    friedman_result = friedmanchisquare(*friedman_data)\n",
    "    friedman_results[ptype] = friedman_result\n",
    "\n",
    "    # If Friedman Test is significant, perform Nemenyi post hoc test\n",
    "    if friedman_result.pvalue < 0.05:\n",
    "        # Combine data into a DataFrame for the Nemenyi test\n",
    "        data = {model_name: rr_by_type for model_name, rr_by_type in zip(model_order, friedman_data)}\n",
    "        data_df = pd.DataFrame(data)\n",
    "        nemenyi_result = sp.posthoc_nemenyi_friedman(data_df)\n",
    "\n",
    "# Colors for different models\n",
    "colors = ['cyan', 'magenta', 'yellow']\n",
    "\n",
    "# New labels for the models\n",
    "new_model_order = ['all-mpnet-base', 'QA-mpnet', 'QA-DistilBERT']\n",
    "\n",
    "for ptype in all_types:\n",
    "    # Show plot only if Friedman test indicates significant difference\n",
    "    if friedman_results[ptype].pvalue < 0.05:\n",
    "        # Create a new figure for each question type\n",
    "        fig, ax = plt.subplots(figsize=(5, 2.75)) \n",
    "\n",
    "        # Data for plotting\n",
    "        means = mean_rr_by_type[ptype]\n",
    "        errors = se_rr_by_type[ptype]\n",
    "        x = np.arange(len(means))\n",
    "\n",
    "        # Creating bar chart\n",
    "        bars = ax.bar(x, means, yerr=errors, color=colors, capsize=7, alpha=0.3, linewidth=2, ecolor='white')\n",
    "        for bar, color in zip(bars, colors):\n",
    "            bar.set_edgecolor(color)\n",
    "        ax.set_xticks(x)\n",
    "        ax.set_xticklabels(new_model_order, fontsize=8)  # Set new model order labels\n",
    "        ax.set_title(f'MRR and SE for \"{ptype}\" type questions', fontsize=10)\n",
    "        ax.set_ylim(0, 1)\n",
    "        ax.set_ylabel('Mean Reciprocal Rank', fontsize=9)\n",
    "        ax.set_yticks(np.linspace(0, 1, 6))\n",
    "\n",
    "        mplcyberpunk.make_lines_glow(ax, alpha_line=0.6)\n",
    "\n",
    "        plt.tight_layout(rect=[0, 0.1, 1, 1])  # Adjust the bottom margin\n",
    "        plt.savefig(f'../images/bar_chart_{ptype}.png', dpi=90, bbox_inches='tight')\n",
    "        plt.show()"
   ]
  },
  {
   "cell_type": "markdown",
   "metadata": {},
   "source": [
    "## Fine-tuning"
   ]
  },
  {
   "cell_type": "code",
   "execution_count": 3,
   "metadata": {},
   "outputs": [],
   "source": [
    "# Remove duplicates and reset index\n",
    "unique_corpus = fine_tuning_dataset.drop_duplicates(subset=['content']).reset_index(drop=True)\n",
    "\n",
    "# Create document IDs\n",
    "document_ids = {doc: idx for idx, doc in enumerate(unique_corpus['content'])}\n",
    "\n",
    "# Create queries and query-document IDs\n",
    "queries = {idx: row['question'] for idx, row in fine_tuning_dataset.iterrows()}\n",
    "query_doc_ids = {idx: document_ids[row['content']] for idx, row in fine_tuning_dataset.iterrows() if row['labels'] == 1.0}\n",
    "\n",
    "# Split the data into training, validation, and test sets\n",
    "train_queries, temp_queries = train_test_split(list(queries.keys()), test_size=0.3, random_state=42)\n",
    "val_queries, test_queries = train_test_split(temp_queries, test_size=0.5, random_state=42)\n",
    "\n",
    "# Create relevant documents for validation and test sets\n",
    "relevant_docs_val = {q_id: {query_doc_ids[q_id]} for q_id in val_queries if q_id in query_doc_ids}\n",
    "relevant_docs_test = {q_id: {query_doc_ids[q_id]} for q_id in test_queries if q_id in query_doc_ids}\n",
    "\n",
    "# Create corpus dictionary\n",
    "corpus = {doc_id: doc for doc, doc_id in document_ids.items()}\n"
   ]
  },
  {
   "cell_type": "code",
   "execution_count": 4,
   "metadata": {},
   "outputs": [],
   "source": [
    "class QADataset(Dataset):\n",
    "    def __init__(self, examples):\n",
    "        self.examples = examples\n",
    "\n",
    "    def __len__(self):\n",
    "        return len(self.examples)\n",
    "\n",
    "    def __getitem__(self, idx):\n",
    "        return self.examples[idx]\n",
    "\n",
    "def get_content(query_id):\n",
    "    doc_id = query_doc_ids.get(query_id, None)\n",
    "    if doc_id is not None:\n",
    "        return corpus[doc_id]\n",
    "    else:\n",
    "        return \"\"\n",
    "\n",
    "train_examples = [InputExample(texts=[queries[q_id], get_content(q_id)]) for q_id in train_queries]\n",
    "val_examples = [InputExample(texts=[queries[q_id], get_content(q_id)]) for q_id in val_queries]\n",
    "test_examples = [InputExample(texts=[queries[q_id], get_content(q_id)]) for q_id in test_queries]\n",
    "\n",
    "train_dataset = QADataset(train_examples)\n",
    "val_dataset = QADataset(val_examples)\n",
    "test_dataset = QADataset(test_examples)\n"
   ]
  },
  {
   "cell_type": "code",
   "execution_count": 5,
   "metadata": {},
   "outputs": [],
   "source": [
    "class LoggingInformationRetrievalEvaluator(InformationRetrievalEvaluator):\n",
    "    def __init__(self, *args, **kwargs):\n",
    "        super().__init__(*args, **kwargs)\n",
    "        self.logger = logging.getLogger('training_logger')\n",
    "        self.last_logged_epoch = -1\n",
    "\n",
    "    def __call__(self, model, output_path=None, epoch=-1, steps=-1):\n",
    "        if epoch != self.last_logged_epoch:\n",
    "            results = super().__call__(model, output_path, epoch, steps)\n",
    "            log_message = f\"Epoch: {epoch}, Steps: {steps}\\n\"\n",
    "            log_message += f\"Information Retrieval Evaluation of the model on the {self.name} dataset:\\n\"\n",
    "            log_message += f\"Queries: {len(self.queries)}\\nCorpus: {len(self.corpus)}\\n\\n\"\n",
    "            \n",
    "            # Log only the key metrics\n",
    "            key_metrics = [\n",
    "                'validation-ir-eval_cosine_accuracy@1',\n",
    "                'validation-ir-eval_cosine_accuracy@5',\n",
    "                'validation-ir-eval_cosine_recall@1',\n",
    "                'validation-ir-eval_cosine_recall@5',\n",
    "                'validation-ir-eval_cosine_ndcg@10',\n",
    "                'validation-ir-eval_cosine_mrr@10',\n",
    "                'validation-ir-eval_cosine_map@100'\n",
    "            ]\n",
    "            for metric in key_metrics:\n",
    "                if metric in results:\n",
    "                    log_message += f\"{metric}: {results[metric]}\\n\"\n",
    "            \n",
    "            self.logger.info(log_message)\n",
    "            self.last_logged_epoch = epoch\n",
    "            return results\n",
    "        else:\n",
    "            return super().__call__(model, output_path, epoch, steps)\n",
    "\n",
    "# Setup logging configuration\n",
    "def setup_logging(log_file_path):\n",
    "    logger = logging.getLogger('training_logger')\n",
    "    logger.setLevel(logging.INFO)\n",
    "    fh = logging.FileHandler(log_file_path)\n",
    "    fh.setLevel(logging.INFO)\n",
    "    formatter = logging.Formatter('%(asctime)s - %(levelname)s - %(message)s')\n",
    "    fh.setFormatter(formatter)\n",
    "    logger.addHandler(fh)\n",
    "    return logger, fh"
   ]
  },
  {
   "cell_type": "markdown",
   "metadata": {},
   "source": [
    "## Bayesian Optimization for Hyperparameter Tuning"
   ]
  },
  {
   "cell_type": "code",
   "execution_count": 6,
   "metadata": {},
   "outputs": [
    {
     "name": "stdout",
     "output_type": "stream",
     "text": [
      "|   iter    |  target   | learni... | num_ep... | per_gp... | warmup... | weight... |\n",
      "-------------------------------------------------------------------------------------\n"
     ]
    },
    {
     "data": {
      "application/vnd.jupyter.widget-view+json": {
       "model_id": "158ab83e2f654a65afed81c2e4dbbbfb",
       "version_major": 2,
       "version_minor": 0
      },
      "text/plain": [
       "  0%|          | 0/56 [00:00<?, ?it/s]"
      ]
     },
     "metadata": {},
     "output_type": "display_data"
    },
    {
     "name": "stdout",
     "output_type": "stream",
     "text": [
      "{'train_runtime': 181.3778, 'train_samples_per_second': 14.864, 'train_steps_per_second': 0.309, 'train_loss': 0.3011243002755301, 'epoch': 4.0}\n",
      "| \u001b[0m1        \u001b[0m | \u001b[0m0.9345   \u001b[0m | \u001b[0m2.498e-05\u001b[0m | \u001b[0m4.852    \u001b[0m | \u001b[0m51.14    \u001b[0m | \u001b[0m299.3    \u001b[0m | \u001b[0m0.04681  \u001b[0m |\n"
     ]
    },
    {
     "data": {
      "application/vnd.jupyter.widget-view+json": {
       "model_id": "ceefda625dd64e5bbe1940c1b30d6d44",
       "version_major": 2,
       "version_minor": 0
      },
      "text/plain": [
       "  0%|          | 0/24 [00:00<?, ?it/s]"
      ]
     },
     "metadata": {},
     "output_type": "display_data"
    },
    {
     "name": "stdout",
     "output_type": "stream",
     "text": [
      "{'train_runtime': 90.2361, 'train_samples_per_second': 14.939, 'train_steps_per_second': 0.266, 'train_loss': 0.572495182355245, 'epoch': 2.0}\n",
      "| \u001b[0m2        \u001b[0m | \u001b[0m0.9076   \u001b[0m | \u001b[0m1.624e-05\u001b[0m | \u001b[0m2.174    \u001b[0m | \u001b[0m57.58    \u001b[0m | \u001b[0m300.6    \u001b[0m | \u001b[0m0.2124   \u001b[0m |\n"
     ]
    },
    {
     "data": {
      "application/vnd.jupyter.widget-view+json": {
       "model_id": "1bc39bab0bc24178a406df433642feeb",
       "version_major": 2,
       "version_minor": 0
      },
      "text/plain": [
       "  0%|          | 0/52 [00:00<?, ?it/s]"
      ]
     },
     "metadata": {},
     "output_type": "display_data"
    },
    {
     "name": "stdout",
     "output_type": "stream",
     "text": [
      "{'train_runtime': 182.8944, 'train_samples_per_second': 14.741, 'train_steps_per_second': 0.284, 'train_loss': 0.36142991139338565, 'epoch': 4.0}\n",
      "| \u001b[95m3        \u001b[0m | \u001b[95m0.9347   \u001b[0m | \u001b[95m1.082e-05\u001b[0m | \u001b[95m4.91     \u001b[0m | \u001b[95m55.96    \u001b[0m | \u001b[95m106.2    \u001b[0m | \u001b[95m0.05455  \u001b[0m |\n"
     ]
    },
    {
     "data": {
      "application/vnd.jupyter.widget-view+json": {
       "model_id": "f7e8d5efeed644eaaf6c383aca22c04f",
       "version_major": 2,
       "version_minor": 0
      },
      "text/plain": [
       "  0%|          | 0/34 [00:00<?, ?it/s]"
      ]
     },
     "metadata": {},
     "output_type": "display_data"
    },
    {
     "name": "stdout",
     "output_type": "stream",
     "text": [
      "{'train_runtime': 83.3865, 'train_samples_per_second': 16.166, 'train_steps_per_second': 0.408, 'train_loss': 0.3781729305491728, 'epoch': 2.0}\n",
      "| \u001b[0m4        \u001b[0m | \u001b[0m0.9261   \u001b[0m | \u001b[0m1.734e-05\u001b[0m | \u001b[0m2.913    \u001b[0m | \u001b[0m41.19    \u001b[0m | \u001b[0m216.0    \u001b[0m | \u001b[0m0.08737  \u001b[0m |\n"
     ]
    },
    {
     "data": {
      "application/vnd.jupyter.widget-view+json": {
       "model_id": "e56ba28e0df34702b814c1406c1906b8",
       "version_major": 2,
       "version_minor": 0
      },
      "text/plain": [
       "  0%|          | 0/46 [00:00<?, ?it/s]"
      ]
     },
     "metadata": {},
     "output_type": "display_data"
    },
    {
     "name": "stdout",
     "output_type": "stream",
     "text": [
      "{'train_runtime': 84.4542, 'train_samples_per_second': 15.961, 'train_steps_per_second': 0.545, 'train_loss': 0.21850511302118716, 'epoch': 2.0}\n",
      "| \u001b[0m5        \u001b[0m | \u001b[0m0.9329   \u001b[0m | \u001b[0m3.447e-05\u001b[0m | \u001b[0m2.418    \u001b[0m | \u001b[0m30.02    \u001b[0m | \u001b[0m183.2    \u001b[0m | \u001b[0m0.1368   \u001b[0m |\n"
     ]
    },
    {
     "data": {
      "application/vnd.jupyter.widget-view+json": {
       "model_id": "4b46d8bd04314c1789432143f629f335",
       "version_major": 2,
       "version_minor": 0
      },
      "text/plain": [
       "  0%|          | 0/46 [00:00<?, ?it/s]"
      ]
     },
     "metadata": {},
     "output_type": "display_data"
    },
    {
     "name": "stdout",
     "output_type": "stream",
     "text": [
      "{'train_runtime': 81.9456, 'train_samples_per_second': 16.45, 'train_steps_per_second': 0.561, 'train_loss': 0.18444038474041483, 'epoch': 2.0}\n",
      "| \u001b[95m6        \u001b[0m | \u001b[95m0.9372   \u001b[0m | \u001b[95m3.635e-05\u001b[0m | \u001b[95m2.227    \u001b[0m | \u001b[95m30.1     \u001b[0m | \u001b[95m183.1    \u001b[0m | \u001b[95m0.1556   \u001b[0m |\n"
     ]
    },
    {
     "data": {
      "application/vnd.jupyter.widget-view+json": {
       "model_id": "da123c3eba5f4cfda4f539bd58d13897",
       "version_major": 2,
       "version_minor": 0
      },
      "text/plain": [
       "  0%|          | 0/52 [00:00<?, ?it/s]"
      ]
     },
     "metadata": {},
     "output_type": "display_data"
    },
    {
     "name": "stdout",
     "output_type": "stream",
     "text": [
      "{'train_runtime': 176.5368, 'train_samples_per_second': 15.272, 'train_steps_per_second': 0.295, 'train_loss': 0.220610471872183, 'epoch': 4.0}\n",
      "| \u001b[95m7        \u001b[0m | \u001b[95m0.9453   \u001b[0m | \u001b[95m4.363e-05\u001b[0m | \u001b[95m4.582    \u001b[0m | \u001b[95m56.09    \u001b[0m | \u001b[95m107.4    \u001b[0m | \u001b[95m0.1278   \u001b[0m |\n"
     ]
    },
    {
     "data": {
      "application/vnd.jupyter.widget-view+json": {
       "model_id": "6dcf359c46014e57b829db15988b9358",
       "version_major": 2,
       "version_minor": 0
      },
      "text/plain": [
       "  0%|          | 0/52 [00:00<?, ?it/s]"
      ]
     },
     "metadata": {},
     "output_type": "display_data"
    },
    {
     "name": "stdout",
     "output_type": "stream",
     "text": [
      "{'train_runtime': 171.5594, 'train_samples_per_second': 15.715, 'train_steps_per_second': 0.303, 'train_loss': 0.2598581680884728, 'epoch': 4.0}\n",
      "| \u001b[95m8        \u001b[0m | \u001b[95m0.9551   \u001b[0m | \u001b[95m3.632e-05\u001b[0m | \u001b[95m4.612    \u001b[0m | \u001b[95m56.87    \u001b[0m | \u001b[95m106.4    \u001b[0m | \u001b[95m0.2091   \u001b[0m |\n"
     ]
    },
    {
     "data": {
      "application/vnd.jupyter.widget-view+json": {
       "model_id": "23c26523582e4b5eb37fe7b176f12f07",
       "version_major": 2,
       "version_minor": 0
      },
      "text/plain": [
       "  0%|          | 0/48 [00:00<?, ?it/s]"
      ]
     },
     "metadata": {},
     "output_type": "display_data"
    },
    {
     "name": "stdout",
     "output_type": "stream",
     "text": [
      "{'train_runtime': 174.0721, 'train_samples_per_second': 15.488, 'train_steps_per_second': 0.276, 'train_loss': 0.2994123299916585, 'epoch': 4.0}\n",
      "| \u001b[0m9        \u001b[0m | \u001b[0m0.9491   \u001b[0m | \u001b[0m3.373e-05\u001b[0m | \u001b[0m4.506    \u001b[0m | \u001b[0m57.85    \u001b[0m | \u001b[0m106.2    \u001b[0m | \u001b[0m0.2578   \u001b[0m |\n"
     ]
    },
    {
     "data": {
      "application/vnd.jupyter.widget-view+json": {
       "model_id": "9269f5425d7945d281ee418faff78d78",
       "version_major": 2,
       "version_minor": 0
      },
      "text/plain": [
       "  0%|          | 0/39 [00:00<?, ?it/s]"
      ]
     },
     "metadata": {},
     "output_type": "display_data"
    },
    {
     "name": "stdout",
     "output_type": "stream",
     "text": [
      "{'train_runtime': 130.2781, 'train_samples_per_second': 15.521, 'train_steps_per_second': 0.299, 'train_loss': 0.32474605853740984, 'epoch': 3.0}\n",
      "| \u001b[0m10       \u001b[0m | \u001b[0m0.949    \u001b[0m | \u001b[0m2.979e-05\u001b[0m | \u001b[0m3.522    \u001b[0m | \u001b[0m56.55    \u001b[0m | \u001b[0m106.4    \u001b[0m | \u001b[0m0.179    \u001b[0m |\n"
     ]
    },
    {
     "data": {
      "application/vnd.jupyter.widget-view+json": {
       "model_id": "e1009bd5e39b4038ae0ac3600a30716e",
       "version_major": 2,
       "version_minor": 0
      },
      "text/plain": [
       "  0%|          | 0/48 [00:00<?, ?it/s]"
      ]
     },
     "metadata": {},
     "output_type": "display_data"
    },
    {
     "name": "stdout",
     "output_type": "stream",
     "text": [
      "{'train_runtime': 181.3665, 'train_samples_per_second': 14.865, 'train_steps_per_second': 0.265, 'train_loss': 0.25574855009714764, 'epoch': 4.0}\n",
      "| \u001b[0m11       \u001b[0m | \u001b[0m0.9546   \u001b[0m | \u001b[0m4.823e-05\u001b[0m | \u001b[0m4.612    \u001b[0m | \u001b[0m57.65    \u001b[0m | \u001b[0m108.5    \u001b[0m | \u001b[0m0.1361   \u001b[0m |\n"
     ]
    },
    {
     "data": {
      "application/vnd.jupyter.widget-view+json": {
       "model_id": "af2e13b47f9b4eb28adf2e46491762b0",
       "version_major": 2,
       "version_minor": 0
      },
      "text/plain": [
       "  0%|          | 0/39 [00:00<?, ?it/s]"
      ]
     },
     "metadata": {},
     "output_type": "display_data"
    },
    {
     "name": "stdout",
     "output_type": "stream",
     "text": [
      "{'train_runtime': 130.5205, 'train_samples_per_second': 15.492, 'train_steps_per_second': 0.299, 'train_loss': 0.31038594857240337, 'epoch': 3.0}\n",
      "| \u001b[0m12       \u001b[0m | \u001b[0m0.9486   \u001b[0m | \u001b[0m3.723e-05\u001b[0m | \u001b[0m3.901    \u001b[0m | \u001b[0m56.84    \u001b[0m | \u001b[0m108.0    \u001b[0m | \u001b[0m0.1621   \u001b[0m |\n"
     ]
    },
    {
     "data": {
      "application/vnd.jupyter.widget-view+json": {
       "model_id": "fa06a1eeca844480b1b1947ae9c2484a",
       "version_major": 2,
       "version_minor": 0
      },
      "text/plain": [
       "  0%|          | 0/36 [00:00<?, ?it/s]"
      ]
     },
     "metadata": {},
     "output_type": "display_data"
    },
    {
     "name": "stdout",
     "output_type": "stream",
     "text": [
      "{'train_runtime': 134.8913, 'train_samples_per_second': 14.99, 'train_steps_per_second': 0.267, 'train_loss': 0.3753413094414605, 'epoch': 3.0}\n",
      "| \u001b[0m13       \u001b[0m | \u001b[0m0.9352   \u001b[0m | \u001b[0m2.011e-05\u001b[0m | \u001b[0m3.35     \u001b[0m | \u001b[0m59.15    \u001b[0m | \u001b[0m107.8    \u001b[0m | \u001b[0m0.1827   \u001b[0m |\n"
     ]
    },
    {
     "data": {
      "application/vnd.jupyter.widget-view+json": {
       "model_id": "bce4edf62320413da5e231ae5396caff",
       "version_major": 2,
       "version_minor": 0
      },
      "text/plain": [
       "  0%|          | 0/65 [00:00<?, ?it/s]"
      ]
     },
     "metadata": {},
     "output_type": "display_data"
    },
    {
     "name": "stdout",
     "output_type": "stream",
     "text": [
      "{'train_runtime': 218.8083, 'train_samples_per_second': 15.402, 'train_steps_per_second': 0.297, 'train_loss': 0.21904801588792067, 'epoch': 5.0}\n",
      "| \u001b[0m14       \u001b[0m | \u001b[0m0.9485   \u001b[0m | \u001b[0m5e-05    \u001b[0m | \u001b[0m5.0      \u001b[0m | \u001b[0m56.93    \u001b[0m | \u001b[0m109.6    \u001b[0m | \u001b[0m0.3      \u001b[0m |\n"
     ]
    },
    {
     "data": {
      "application/vnd.jupyter.widget-view+json": {
       "model_id": "5cdd6cc4eda0420fb9cdb1f1ea9c40f5",
       "version_major": 2,
       "version_minor": 0
      },
      "text/plain": [
       "  0%|          | 0/24 [00:00<?, ?it/s]"
      ]
     },
     "metadata": {},
     "output_type": "display_data"
    },
    {
     "name": "stdout",
     "output_type": "stream",
     "text": [
      "{'train_runtime': 91.5147, 'train_samples_per_second': 14.73, 'train_steps_per_second': 0.262, 'train_loss': 0.4352372884750366, 'epoch': 2.0}\n",
      "| \u001b[0m15       \u001b[0m | \u001b[0m0.9209   \u001b[0m | \u001b[0m2.323e-05\u001b[0m | \u001b[0m2.93     \u001b[0m | \u001b[0m58.5     \u001b[0m | \u001b[0m111.1    \u001b[0m | \u001b[0m0.2766   \u001b[0m |\n"
     ]
    },
    {
     "data": {
      "application/vnd.jupyter.widget-view+json": {
       "model_id": "6c0ec301ea5d4c67be6d84b41ffb1e4f",
       "version_major": 2,
       "version_minor": 0
      },
      "text/plain": [
       "  0%|          | 0/44 [00:00<?, ?it/s]"
      ]
     },
     "metadata": {},
     "output_type": "display_data"
    },
    {
     "name": "stdout",
     "output_type": "stream",
     "text": [
      "{'train_runtime': 83.8528, 'train_samples_per_second': 16.076, 'train_steps_per_second': 0.525, 'train_loss': 0.23672565546902744, 'epoch': 2.0}\n",
      "| \u001b[0m16       \u001b[0m | \u001b[0m0.922    \u001b[0m | \u001b[0m2.153e-05\u001b[0m | \u001b[0m2.04     \u001b[0m | \u001b[0m32.08    \u001b[0m | \u001b[0m181.8    \u001b[0m | \u001b[0m0.253    \u001b[0m |\n"
     ]
    },
    {
     "data": {
      "application/vnd.jupyter.widget-view+json": {
       "model_id": "e7c198cf0b364d47bbd5814cae06cb57",
       "version_major": 2,
       "version_minor": 0
      },
      "text/plain": [
       "  0%|          | 0/24 [00:00<?, ?it/s]"
      ]
     },
     "metadata": {},
     "output_type": "display_data"
    },
    {
     "name": "stdout",
     "output_type": "stream",
     "text": [
      "{'train_runtime': 89.8087, 'train_samples_per_second': 15.01, 'train_steps_per_second': 0.267, 'train_loss': 0.4640875260035197, 'epoch': 2.0}\n",
      "| \u001b[0m17       \u001b[0m | \u001b[0m0.9222   \u001b[0m | \u001b[0m2.291e-05\u001b[0m | \u001b[0m2.033    \u001b[0m | \u001b[0m57.93    \u001b[0m | \u001b[0m105.0    \u001b[0m | \u001b[0m0.1316   \u001b[0m |\n"
     ]
    },
    {
     "data": {
      "application/vnd.jupyter.widget-view+json": {
       "model_id": "fda268e1e3e746f69601a6aec0dee3c9",
       "version_major": 2,
       "version_minor": 0
      },
      "text/plain": [
       "  0%|          | 0/48 [00:00<?, ?it/s]"
      ]
     },
     "metadata": {},
     "output_type": "display_data"
    },
    {
     "name": "stdout",
     "output_type": "stream",
     "text": [
      "{'train_runtime': 176.9714, 'train_samples_per_second': 15.234, 'train_steps_per_second': 0.271, 'train_loss': 0.3607181708017985, 'epoch': 4.0}\n",
      "| \u001b[0m18       \u001b[0m | \u001b[0m0.9403   \u001b[0m | \u001b[0m1.737e-05\u001b[0m | \u001b[0m4.675    \u001b[0m | \u001b[0m57.35    \u001b[0m | \u001b[0m107.0    \u001b[0m | \u001b[0m0.02736  \u001b[0m |\n"
     ]
    },
    {
     "data": {
      "application/vnd.jupyter.widget-view+json": {
       "model_id": "267984da7a7d4a75bb797e01fc7c28c2",
       "version_major": 2,
       "version_minor": 0
      },
      "text/plain": [
       "  0%|          | 0/52 [00:00<?, ?it/s]"
      ]
     },
     "metadata": {},
     "output_type": "display_data"
    },
    {
     "name": "stdout",
     "output_type": "stream",
     "text": [
      "{'train_runtime': 183.6405, 'train_samples_per_second': 14.681, 'train_steps_per_second': 0.283, 'train_loss': 0.30127299748934233, 'epoch': 4.0}\n",
      "| \u001b[0m19       \u001b[0m | \u001b[0m0.9399   \u001b[0m | \u001b[0m1.716e-05\u001b[0m | \u001b[0m4.825    \u001b[0m | \u001b[0m55.6     \u001b[0m | \u001b[0m108.7    \u001b[0m | \u001b[0m0.2361   \u001b[0m |\n"
     ]
    },
    {
     "data": {
      "application/vnd.jupyter.widget-view+json": {
       "model_id": "50924fb5cf1048649a6dea91f66ab91e",
       "version_major": 2,
       "version_minor": 0
      },
      "text/plain": [
       "  0%|          | 0/36 [00:00<?, ?it/s]"
      ]
     },
     "metadata": {},
     "output_type": "display_data"
    },
    {
     "name": "stdout",
     "output_type": "stream",
     "text": [
      "{'train_runtime': 132.111, 'train_samples_per_second': 15.305, 'train_steps_per_second': 0.272, 'train_loss': 0.360516177283393, 'epoch': 3.0}\n",
      "| \u001b[0m20       \u001b[0m | \u001b[0m0.941    \u001b[0m | \u001b[0m2.8e-05  \u001b[0m | \u001b[0m3.558    \u001b[0m | \u001b[0m57.23    \u001b[0m | \u001b[0m105.8    \u001b[0m | \u001b[0m0.05252  \u001b[0m |\n",
      "=====================================================================================\n",
      "Best hyperparameters:  {'learning_rate': 3.631692566303126e-05, 'num_epochs': 4.61248579441536, 'per_gpu_batch_size': 56.871775650047006, 'warmup_steps': 106.44852169800234, 'weight_decay': 0.20906624405054877}\n"
     ]
    }
   ],
   "source": [
    "# Function to remove and close all handlers from the logger\n",
    "def close_logger(logger):\n",
    "    handlers = logger.handlers[:]\n",
    "    for handler in handlers:\n",
    "        handler.close()\n",
    "        logger.removeHandler(handler)\n",
    "\n",
    "# Delete the existing training log file if it exists\n",
    "log_file_path = '../models/bayes_opt/training.log'\n",
    "if os.path.exists(log_file_path):\n",
    "    close_logger(logging.getLogger('training_logger'))\n",
    "    os.remove(log_file_path)\n",
    "\n",
    "# Define the objective function\n",
    "def objective(per_gpu_batch_size, weight_decay, learning_rate, warmup_steps, num_epochs):\n",
    "    per_gpu_batch_size = int(per_gpu_batch_size)\n",
    "    warmup_steps = int(warmup_steps)\n",
    "    num_epochs = int(num_epochs)\n",
    "\n",
    "    # Load the model\n",
    "    model = SentenceTransformer('multi-qa-distilbert-cos-v1')\n",
    "\n",
    "    # Define the loss function\n",
    "    loss = losses.MultipleNegativesRankingLoss(model=model)\n",
    "\n",
    "    # Setup logging\n",
    "    logger, fh = setup_logging('../models/bayes_opt/training.log')\n",
    "\n",
    "    # Instantiate the custom evaluators\n",
    "    ir_evaluator_val = LoggingInformationRetrievalEvaluator(\n",
    "        queries={q_id: queries[q_id] for q_id in val_queries},\n",
    "        corpus=corpus,\n",
    "        relevant_docs=relevant_docs_val,\n",
    "        name=\"validation-ir-eval\"\n",
    "    )\n",
    "\n",
    "    # Create DataLoader with the suggested batch size\n",
    "    train_dataloader = DataLoader(train_dataset, batch_size=per_gpu_batch_size, shuffle=True)\n",
    "\n",
    "    # Train the model with the evaluator\n",
    "    model.fit(\n",
    "        train_objectives=[(train_dataloader, loss)],\n",
    "        evaluator=ir_evaluator_val,\n",
    "        epochs=num_epochs,\n",
    "        warmup_steps=warmup_steps,\n",
    "        evaluation_steps=500,\n",
    "        save_best_model=False,  # Do not save the model\n",
    "        show_progress_bar=True,\n",
    "        optimizer_params={'lr': learning_rate, 'weight_decay': weight_decay}\n",
    "    )\n",
    "\n",
    "    # Evaluate the model on the validation set\n",
    "    results = ir_evaluator_val(model)\n",
    "    \n",
    "    # Close the logger handlers to release the file\n",
    "    close_logger(logger)\n",
    "    \n",
    "    # Return the metric to be optimized, defaulting to 0 if 'validation-ir-eval_cosine_mrr@10' is not found\n",
    "    return results.get('validation-ir-eval_cosine_mrr@10', 0)\n",
    "\n",
    "# Define the search space\n",
    "pbounds = {\n",
    "    'per_gpu_batch_size': (16, 64),\n",
    "    'weight_decay': (0, 0.3),\n",
    "    'learning_rate': (1e-5, 5e-5),\n",
    "    'warmup_steps': (0, 500),\n",
    "    'num_epochs': (2, 5)\n",
    "}\n",
    "\n",
    "# Create a BayesianOptimization object\n",
    "optimizer = BayesianOptimization(\n",
    "    f=objective,\n",
    "    pbounds=pbounds,\n",
    "    random_state=42,\n",
    "    verbose=2\n",
    ")\n",
    "\n",
    "# Run the optimization with reduced number of trials\n",
    "optimizer.maximize(init_points=5, n_iter=15)\n",
    "\n",
    "# Print the best hyperparameters\n",
    "best_hyperparameters = optimizer.max['params']\n",
    "print(\"Best hyperparameters: \", best_hyperparameters)\n",
    "\n",
    "# Save the best hyperparameters to a file\n",
    "with open('../models/bayes_opt/best_hyperparameters.json', 'w') as f:\n",
    "    json.dump(best_hyperparameters, f)"
   ]
  },
  {
   "cell_type": "code",
   "execution_count": 6,
   "metadata": {},
   "outputs": [],
   "source": [
    "# Load best hyperparameters \n",
    "file_path = '../models/bayes_opt/best_hyperparameters.json'\n",
    "with open(file_path, 'r') as file:\n",
    "    best_hyperparameters = json.load(file)"
   ]
  },
  {
   "cell_type": "markdown",
   "metadata": {},
   "source": [
    "## Fine-tuning with best hyperparameters"
   ]
  },
  {
   "cell_type": "code",
   "execution_count": 22,
   "metadata": {},
   "outputs": [
    {
     "data": {
      "application/vnd.jupyter.widget-view+json": {
       "model_id": "75ec9e21d6284d32a3723cd6bde427c3",
       "version_major": 2,
       "version_minor": 0
      },
      "text/plain": [
       "  0%|          | 0/52 [00:00<?, ?it/s]"
      ]
     },
     "metadata": {},
     "output_type": "display_data"
    },
    {
     "name": "stdout",
     "output_type": "stream",
     "text": [
      "{'train_runtime': 179.9444, 'train_samples_per_second': 14.982, 'train_steps_per_second': 0.289, 'train_loss': 0.24672205631549543, 'epoch': 4.0}\n"
     ]
    },
    {
     "data": {
      "application/vnd.jupyter.widget-view+json": {
       "model_id": "a611a23ca06945a98d7f2d74c77ef387",
       "version_major": 2,
       "version_minor": 0
      },
      "text/plain": [
       "Computing widget examples:   0%|          | 0/5 [00:00<?, ?example/s]"
      ]
     },
     "metadata": {},
     "output_type": "display_data"
    },
    {
     "name": "stdout",
     "output_type": "stream",
     "text": [
      "Final model saved to ../models/best-IR-model\n"
     ]
    }
   ],
   "source": [
    "# Use the best hyperparameter for batch size\n",
    "batch_size = int(best_hyperparameters['per_gpu_batch_size'])\n",
    "\n",
    "train_dataloader = DataLoader(train_dataset, batch_size=batch_size, shuffle=True)\n",
    "val_dataloader = DataLoader(val_dataset, batch_size=batch_size, shuffle=False)\n",
    "test_dataloader = DataLoader(test_dataset, batch_size=batch_size, shuffle=False)\n",
    "\n",
    "# Train the final model with the best hyperparameters\n",
    "def train_final_model(best_hyperparameters):\n",
    "    per_gpu_batch_size = int(best_hyperparameters['per_gpu_batch_size'])\n",
    "    weight_decay = best_hyperparameters['weight_decay']\n",
    "    learning_rate = best_hyperparameters['learning_rate']\n",
    "    warmup_steps = int(best_hyperparameters['warmup_steps'])\n",
    "    num_epochs = int(best_hyperparameters['num_epochs'])\n",
    "\n",
    "    # Load the model\n",
    "    model = SentenceTransformer('multi-qa-distilbert-cos-v1')\n",
    "\n",
    "    # Define the loss function\n",
    "    loss = losses.MultipleNegativesRankingLoss(model=model)\n",
    "\n",
    "    # Setup logging\n",
    "    logger, fh = setup_logging('../models/best-IR-model/final_training.log')\n",
    "\n",
    "    # Instantiate the custom evaluators\n",
    "    ir_evaluator_val = LoggingInformationRetrievalEvaluator(\n",
    "        queries={q_id: queries[q_id] for q_id in val_queries},\n",
    "        corpus=corpus,\n",
    "        relevant_docs=relevant_docs_val,\n",
    "        name=\"validation-ir-eval\"\n",
    "    )\n",
    "\n",
    "    # Create DataLoader with the suggested batch size\n",
    "    train_dataloader = DataLoader(train_dataset, batch_size=per_gpu_batch_size, shuffle=True)\n",
    "\n",
    "    # Train the model with the evaluator\n",
    "    model.fit(\n",
    "        train_objectives=[(train_dataloader, loss)],\n",
    "        evaluator=ir_evaluator_val,\n",
    "        epochs=num_epochs,\n",
    "        warmup_steps=warmup_steps,\n",
    "        evaluation_steps=500,\n",
    "        save_best_model=True,  # Save the best model\n",
    "        show_progress_bar=True,\n",
    "        optimizer_params={'lr': learning_rate, 'weight_decay': weight_decay}\n",
    "    )\n",
    "\n",
    "    # Save the trained model\n",
    "    model_save_path = '../models/best-IR-model'\n",
    "    model.save(model_save_path)\n",
    "\n",
    "    # Close the logger handlers to release the file\n",
    "    close_logger(logger)\n",
    "\n",
    "    print(f\"Final model saved to {model_save_path}\")\n",
    "\n",
    "# Train the final model with the best hyperparameters\n",
    "train_final_model(best_hyperparameters)\n"
   ]
  },
  {
   "cell_type": "code",
   "execution_count": 20,
   "metadata": {},
   "outputs": [
    {
     "data": {
      "image/png": "[encoded data removed]",
      "text/plain": [
       "<Figure size 400x250 with 1 Axes>"
      ]
     },
     "metadata": {},
     "output_type": "display_data"
    },
    {
     "data": {
      "image/png": "[encoded data removed]",
      "text/plain": [
       "<Figure size 400x250 with 1 Axes>"
      ]
     },
     "metadata": {},
     "output_type": "display_data"
    },
    {
     "data": {
      "image/png": "[encoded data removed]",
      "text/plain": [
       "<Figure size 400x250 with 1 Axes>"
      ]
     },
     "metadata": {},
     "output_type": "display_data"
    }
   ],
   "source": [
    "# Read the log file\n",
    "with open('../models/best-IR-model/final_training.log', 'r') as f:\n",
    "    log_contents = f.read()\n",
    "\n",
    "# Extract metrics using regular expressions\n",
    "epoch_pattern = r'Epoch: (\\d+\\.\\d+)'\n",
    "metric_pattern = r'(validation-ir-eval_cosine_(\\w+))@(\\d+): (\\d+\\.\\d+)'\n",
    "\n",
    "epochs = re.findall(epoch_pattern, log_contents)\n",
    "metrics = re.findall(metric_pattern, log_contents)\n",
    "\n",
    "# Create a dictionary to store the metric values for each epoch, grouped by metric type and top_k\n",
    "metric_values = {}\n",
    "for metric_name, metric_type, top_k, metric_value in metrics:\n",
    "    metric_values.setdefault(metric_type, {}).setdefault(top_k, []).append(float(metric_value))\n",
    "\n",
    "# Define colors and line styles for each metric and top_k value\n",
    "colors = {\n",
    "    'accuracy@1': 'cyan', 'accuracy@5': 'cyan',\n",
    "    'recall@1': 'yellow', 'recall@5': 'yellow',\n",
    "    'mrr@10': 'magenta', 'ndcg@10': 'green'\n",
    "}\n",
    "line_styles = {\n",
    "    'accuracy@1': '-', 'accuracy@5': '--',\n",
    "    'recall@1': '-', 'recall@5': '--',\n",
    "    'mrr@10': '-', 'ndcg@10': '--'\n",
    "}\n",
    "\n",
    "def plot_metrics(metric_types, title, filename, y_lim=(0.7, 1.05), y_ticks=np.arange(0.7, 1.05, 0.1), dpi=100):\n",
    "    # Adjust font sizes\n",
    "    plt.rcParams.update({'font.size': 8})  # Adjusting the global font size smaller for smaller plots\n",
    "\n",
    "    # Convert pixel dimensions to inches for figsize\n",
    "    width_in_inches = 400 / dpi\n",
    "    height_in_inches = 250 / dpi\n",
    "\n",
    "    plt.figure(figsize=(width_in_inches, height_in_inches))\n",
    "    for metric_type in metric_types:\n",
    "        for top_k, values in metric_values[metric_type].items():\n",
    "            plt.plot(range(1, len(epochs) + 1), values, color=colors[f'{metric_type}@{top_k}'],\n",
    "                     linestyle=line_styles[f'{metric_type}@{top_k}'], label=f'{metric_type}@{top_k}', alpha=0.7)\n",
    "    plt.title(title, pad=10)\n",
    "    plt.ylabel('Metric Value')\n",
    "    plt.ylim(*y_lim)\n",
    "    plt.xlim(1, len(epochs))\n",
    "    plt.yticks(y_ticks)\n",
    "    plt.grid(True)\n",
    "    mplcyberpunk.add_glow_effects()\n",
    "    handles, labels = plt.gca().get_legend_handles_labels()\n",
    "    unique_labels = list(set(labels))\n",
    "    unique_handles = [handles[labels.index(label)] for label in unique_labels]\n",
    "    plt.legend(unique_handles, unique_labels, bbox_to_anchor=(1.02, 1), loc='upper left', borderaxespad=0)\n",
    "    plt.xlabel('Epoch')\n",
    "    plt.xticks(range(1, len(epochs) + 1, 1))\n",
    "    plt.tight_layout(rect=[0, 0.03, 1, 0.95])\n",
    "    plt.savefig(f'../images/{filename}', dpi=dpi)  \n",
    "    plt.show()\n",
    "\n",
    "# Plot accuracy, recall, NDCG and MRR\n",
    "plot_metrics(metric_types=['accuracy'], title='Accuracy', filename='val_accuracy.png')\n",
    "plot_metrics(metric_types=['recall'], title='Recall', filename='val_recall.png')\n",
    "plot_metrics(metric_types=['ndcg', 'mrr'], title='NDCG and MRR', filename='val_ndcg_mrr.png')\n",
    "\n"
   ]
  },
  {
   "cell_type": "code",
   "execution_count": 21,
   "metadata": {},
   "outputs": [
    {
     "name": "stderr",
     "output_type": "stream",
     "text": [
      "You try to use a model that was created with version 3.0.0.dev0, however, your version is 3.0.0. This might cause unexpected behavior or errors. In that case, try to update to the latest version.\n",
      "\n",
      "\n",
      "\n"
     ]
    }
   ],
   "source": [
    "# Load your best model checkpoint\n",
    "best_model_path = '../models/best-IR-model'\n",
    "best_model = SentenceTransformer(best_model_path)\n",
    "\n",
    "# Load the base pre-fine-tuning model and mpnet models\n",
    "base_model = SentenceTransformer('multi-qa-distilbert-cos-v1')\n",
    "mpnet_model = SentenceTransformer('multi-qa-mpnet-base-dot-v1')\n",
    "all_mpnet_model = SentenceTransformer('all-mpnet-base-v2')"
   ]
  },
  {
   "cell_type": "code",
   "execution_count": 22,
   "metadata": {},
   "outputs": [],
   "source": [
    "# Create the evaluator\n",
    "ir_evaluator = InformationRetrievalEvaluator(\n",
    "    queries={q_id: queries[q_id] for q_id in test_queries},\n",
    "    corpus=corpus,\n",
    "    relevant_docs=relevant_docs_test,\n",
    "    name=\"test-ir-eval\"\n",
    ")\n",
    "\n",
    "# Evaluate the models\n",
    "results_best_model = ir_evaluator(best_model)\n",
    "results_base_model = ir_evaluator(base_model)\n",
    "results_mpnet_model = ir_evaluator(mpnet_model)\n",
    "results_all_mpnet_model = ir_evaluator(all_mpnet_model)"
   ]
  },
  {
   "cell_type": "code",
   "execution_count": 53,
   "metadata": {},
   "outputs": [
    {
     "data": {
      "image/png": "[encoded data removed]",
      "text/plain": [
       "<Figure size 444.444x155.556 with 1 Axes>"
      ]
     },
     "metadata": {},
     "output_type": "display_data"
    },
    {
     "data": {
      "image/png": "[encoded data removed]",
      "text/plain": [
       "<Figure size 444.444x155.556 with 1 Axes>"
      ]
     },
     "metadata": {},
     "output_type": "display_data"
    },
    {
     "data": {
      "image/png": "[encoded data removed]",
      "text/plain": [
       "<Figure size 444.444x155.556 with 1 Axes>"
      ]
     },
     "metadata": {},
     "output_type": "display_data"
    },
    {
     "data": {
      "image/png": "[encoded data removed]",
      "text/plain": [
       "<Figure size 444.444x155.556 with 1 Axes>"
      ]
     },
     "metadata": {},
     "output_type": "display_data"
    },
    {
     "data": {
      "image/png": "[encoded data removed]",
      "text/plain": [
       "<Figure size 444.444x155.556 with 1 Axes>"
      ]
     },
     "metadata": {},
     "output_type": "display_data"
    }
   ],
   "source": [
    "# Define the metrics and top_k values\n",
    "metric_names = ['accuracy', 'precision', 'recall', 'ndcg', 'mrr']\n",
    "top_k_values = {\n",
    "    'accuracy': [1, 5],\n",
    "    'precision': [1],\n",
    "    'recall': [1, 5],\n",
    "    'ndcg': [10],\n",
    "    'mrr': [10]\n",
    "}\n",
    "\n",
    "# Create a list of model names and their colors\n",
    "model_names = ['QA-distilbert (fine-tuned)', 'QA-distilbert (base model)', 'QA-mpnet', 'All-mpnet-base-v2']\n",
    "model_colors = ['cyan', 'magenta', 'yellow', 'green']\n",
    "\n",
    "# Function to plot metrics\n",
    "def plot_metrics(metric_name, top_k_values, model_names, model_colors, dpi=225):\n",
    "    x = np.arange(len(top_k_values[metric_name]))  # Set the x-axis positions for the bars\n",
    "    width = 0.2  # Width of the bars\n",
    "\n",
    "    # Convert pixel dimensions to inches for figsize\n",
    "    width_in_inches = 1000 / dpi\n",
    "    height_in_inches = 350 / dpi\n",
    "\n",
    "    fig, ax = plt.subplots(figsize=(width_in_inches, height_in_inches))\n",
    "\n",
    "    for j, top_k in enumerate(top_k_values[metric_name]):\n",
    "        metric_key = f'test-ir-eval_cosine_{metric_name}@{top_k}'\n",
    "        \n",
    "        # Extract the metric values for each model\n",
    "        metric_values = [\n",
    "            results_best_model.get(metric_key, 0),\n",
    "            results_base_model.get(metric_key, 0),\n",
    "            results_mpnet_model.get(metric_key, 0),\n",
    "            results_all_mpnet_model.get(metric_key, 0)\n",
    "        ]\n",
    "\n",
    "        # Create the bar chart for the current metric\n",
    "        for i, (model_name, color) in enumerate(zip(model_names, model_colors)):\n",
    "            ax.bar(x[j] + (i - 1.5) * width, metric_values[i], width, color=color, label=model_name, alpha=0.3)\n",
    "\n",
    "    # Set the x-axis labels and tick positions\n",
    "    ax.set_xticks(x)\n",
    "    ax.set_xticklabels([f'k={top_k}' for top_k in top_k_values[metric_name]])\n",
    "\n",
    "    # Set the title and labels for the current subplot\n",
    "    title_map = {'ndcg': 'NDCG', 'mrr': 'MRR'}\n",
    "    metric_title = title_map.get(metric_name, metric_name.capitalize())\n",
    "    ax.set_title(f'{metric_title} @ top-k documents retrieved')\n",
    "    ax.set_ylabel('Score')\n",
    "\n",
    "    # Set y-axis limits and ticks\n",
    "    ax.set_ylim(0, 1)\n",
    "    ax.set_yticks(np.arange(0, 1.1, 0.2))\n",
    "\n",
    "    # Remove duplicate legend entries and show only model names in the correct order\n",
    "    handles, labels = ax.get_legend_handles_labels()\n",
    "    unique_labels, unique_handles = [], []\n",
    "    for model_name in model_names:\n",
    "        if model_name in labels:\n",
    "            unique_labels.append(model_name)\n",
    "            unique_handles.append(handles[labels.index(model_name)])\n",
    "    ax.legend(unique_handles, unique_labels, bbox_to_anchor=(1.02, 1), loc='upper left', borderaxespad=0)\n",
    "\n",
    "    # Adjust the layout and save the plot\n",
    "    plt.tight_layout(rect=[0, 0.03, 1, 0.95])\n",
    "    plt.savefig(f'../images/{metric_name}_test_plot.png', dpi=dpi)\n",
    "    plt.show()\n",
    "\n",
    "# Iterate over each metric and plot\n",
    "for metric_name in metric_names:\n",
    "    plot_metrics(metric_name, top_k_values, model_names, model_colors)"
   ]
  },
  {
   "cell_type": "code",
   "execution_count": 57,
   "metadata": {},
   "outputs": [
    {
     "data": {
      "text/html": [
       "<div>\n",
       "<style scoped>\n",
       "    .dataframe tbody tr th:only-of-type {\n",
       "        vertical-align: middle;\n",
       "    }\n",
       "\n",
       "    .dataframe tbody tr th {\n",
       "        vertical-align: top;\n",
       "    }\n",
       "\n",
       "    .dataframe thead th {\n",
       "        text-align: right;\n",
       "    }\n",
       "</style>\n",
       "<table border=\"1\" class=\"dataframe\">\n",
       "  <thead>\n",
       "    <tr style=\"text-align: right;\">\n",
       "      <th></th>\n",
       "      <th>Accuracy@1</th>\n",
       "      <th>Accuracy@5</th>\n",
       "      <th>Precision@1</th>\n",
       "      <th>Recall@1</th>\n",
       "      <th>Recall@5</th>\n",
       "      <th>NDCG@10</th>\n",
       "      <th>MRR@10</th>\n",
       "    </tr>\n",
       "  </thead>\n",
       "  <tbody>\n",
       "    <tr>\n",
       "      <th>QA-distilbert (fine-tuned)</th>\n",
       "      <td>0.9103</td>\n",
       "      <td>0.9862</td>\n",
       "      <td>0.9103</td>\n",
       "      <td>0.9103</td>\n",
       "      <td>0.9862</td>\n",
       "      <td>0.9586</td>\n",
       "      <td>0.9449</td>\n",
       "    </tr>\n",
       "    <tr>\n",
       "      <th>QA-distilbert (base model)</th>\n",
       "      <td>0.8759</td>\n",
       "      <td>0.9379</td>\n",
       "      <td>0.8759</td>\n",
       "      <td>0.8759</td>\n",
       "      <td>0.9379</td>\n",
       "      <td>0.9142</td>\n",
       "      <td>0.9020</td>\n",
       "    </tr>\n",
       "    <tr>\n",
       "      <th>QA-mpnet</th>\n",
       "      <td>0.8621</td>\n",
       "      <td>0.9310</td>\n",
       "      <td>0.8621</td>\n",
       "      <td>0.8621</td>\n",
       "      <td>0.9310</td>\n",
       "      <td>0.9027</td>\n",
       "      <td>0.8892</td>\n",
       "    </tr>\n",
       "    <tr>\n",
       "      <th>All-mpnet-base-v2</th>\n",
       "      <td>0.7379</td>\n",
       "      <td>0.8759</td>\n",
       "      <td>0.7379</td>\n",
       "      <td>0.7379</td>\n",
       "      <td>0.8759</td>\n",
       "      <td>0.8276</td>\n",
       "      <td>0.8028</td>\n",
       "    </tr>\n",
       "  </tbody>\n",
       "</table>\n",
       "</div>"
      ],
      "text/plain": [
       "                           Accuracy@1 Accuracy@5 Precision@1 Recall@1  \\\n",
       "QA-distilbert (fine-tuned)     0.9103     0.9862      0.9103   0.9103   \n",
       "QA-distilbert (base model)     0.8759     0.9379      0.8759   0.8759   \n",
       "QA-mpnet                       0.8621     0.9310      0.8621   0.8621   \n",
       "All-mpnet-base-v2              0.7379     0.8759      0.7379   0.7379   \n",
       "\n",
       "                           Recall@5 NDCG@10  MRR@10  \n",
       "QA-distilbert (fine-tuned)   0.9862  0.9586  0.9449  \n",
       "QA-distilbert (base model)   0.9379  0.9142  0.9020  \n",
       "QA-mpnet                     0.9310  0.9027  0.8892  \n",
       "All-mpnet-base-v2            0.8759  0.8276  0.8028  "
      ]
     },
     "execution_count": 57,
     "metadata": {},
     "output_type": "execute_result"
    }
   ],
   "source": [
    "# Combine results into a DataFrame\n",
    "data = {\n",
    "    'QA-distilbert (fine-tuned)': [\n",
    "        results_best_model['test-ir-eval_cosine_accuracy@1'],\n",
    "        results_best_model['test-ir-eval_cosine_accuracy@5'],\n",
    "        results_best_model['test-ir-eval_cosine_precision@1'],\n",
    "        results_best_model['test-ir-eval_cosine_recall@1'],\n",
    "        results_best_model['test-ir-eval_cosine_recall@5'],\n",
    "        results_best_model['test-ir-eval_cosine_ndcg@10'],\n",
    "        results_best_model['test-ir-eval_cosine_mrr@10']\n",
    "    ],\n",
    "    'QA-distilbert (base model)': [\n",
    "        results_base_model['test-ir-eval_cosine_accuracy@1'],\n",
    "        results_base_model['test-ir-eval_cosine_accuracy@5'],\n",
    "        results_base_model['test-ir-eval_cosine_precision@1'],\n",
    "        results_base_model['test-ir-eval_cosine_recall@1'],\n",
    "        results_base_model['test-ir-eval_cosine_recall@5'],\n",
    "        results_base_model['test-ir-eval_cosine_ndcg@10'],\n",
    "        results_base_model['test-ir-eval_cosine_mrr@10']\n",
    "    ],\n",
    "    'QA-mpnet': [\n",
    "        results_mpnet_model['test-ir-eval_cosine_accuracy@1'],\n",
    "        results_mpnet_model['test-ir-eval_cosine_accuracy@5'],\n",
    "        results_mpnet_model['test-ir-eval_cosine_precision@1'],\n",
    "        results_mpnet_model['test-ir-eval_cosine_recall@1'],\n",
    "        results_mpnet_model['test-ir-eval_cosine_recall@5'],\n",
    "        results_mpnet_model['test-ir-eval_cosine_ndcg@10'],\n",
    "        results_mpnet_model['test-ir-eval_cosine_mrr@10']\n",
    "    ],\n",
    "    'All-mpnet-base-v2': [\n",
    "        results_all_mpnet_model['test-ir-eval_cosine_accuracy@1'],\n",
    "        results_all_mpnet_model['test-ir-eval_cosine_accuracy@5'],\n",
    "        results_all_mpnet_model['test-ir-eval_cosine_precision@1'],\n",
    "        results_all_mpnet_model['test-ir-eval_cosine_recall@1'],\n",
    "        results_all_mpnet_model['test-ir-eval_cosine_recall@5'],\n",
    "        results_all_mpnet_model['test-ir-eval_cosine_ndcg@10'],\n",
    "        results_all_mpnet_model['test-ir-eval_cosine_mrr@10']\n",
    "    ]\n",
    "}\n",
    "\n",
    "# Define the column names (metrics)\n",
    "columns = [\n",
    "    'Accuracy@1', 'Accuracy@5', 'Precision@1', 'Recall@1', 'Recall@5', 'NDCG@10', 'MRR@10'\n",
    "]\n",
    "\n",
    "# Create the DataFrame and transpose it\n",
    "df = pd.DataFrame(data, index=columns).T\n",
    "\n",
    "# Format the DataFrame values to four decimal places\n",
    "df = df.astype(float).map(lambda x: f'{x:.4f}')\n",
    "df"
   ]
  },
  {
   "cell_type": "code",
   "execution_count": 59,
   "metadata": {},
   "outputs": [],
   "source": [
    "df.to_latex('../images/performance_metrics_table.tex', caption='Performance Metrics for Each Embedding Model', label='tab:performance_metrics', float_format=\"%.4f\")\n",
    "\n"
   ]
  },
  {
   "cell_type": "code",
   "execution_count": 82,
   "metadata": {},
   "outputs": [
    {
     "name": "stdout",
     "output_type": "stream",
     "text": [
      "Model metrics have been written to ../docs/model_metrics.txt\n"
     ]
    }
   ],
   "source": [
    "num_documents = len(unique_corpus)\n",
    "num_queries_total = len(queries)\n",
    "num_queries_train = len(train_queries)\n",
    "num_queries_val = len(val_queries)\n",
    "num_queries_test = len(test_queries)\n",
    "\n",
    "hyperparameters = {\n",
    "    'per_gpu_batch_size': int(best_hyperparameters['per_gpu_batch_size']),\n",
    "    'weight_decay': best_hyperparameters['weight_decay'],\n",
    "    'learning_rate': best_hyperparameters['learning_rate'],\n",
    "    'warmup_steps': int(best_hyperparameters['warmup_steps']),\n",
    "    'num_epochs': int(best_hyperparameters['num_epochs'])\n",
    "}\n",
    "\n",
    "performance_metrics = {\n",
    "    'Accuracy@1': results_best_model['test-ir-eval_cosine_accuracy@1'],\n",
    "    'Accuracy@5': results_best_model['test-ir-eval_cosine_accuracy@5'],\n",
    "    'Precision@1': results_best_model['test-ir-eval_cosine_precision@1'],\n",
    "    'Recall@1': results_best_model['test-ir-eval_cosine_recall@1'],\n",
    "    'Recall@5': results_best_model['test-ir-eval_cosine_recall@5'],\n",
    "    'NDCG@10': results_best_model['test-ir-eval_cosine_ndcg@10'],\n",
    "    'MRR@10': results_best_model['test-ir-eval_cosine_mrr@10']\n",
    "}\n",
    "\n",
    "# Combine all data into a single string for text file export\n",
    "data = {\n",
    "    'Number of Documents': num_documents,\n",
    "    'Number of Queries (Total)': num_queries_total,\n",
    "    'Number of Queries (Training)': num_queries_train,\n",
    "    'Number of Queries (Validation)': num_queries_val,\n",
    "    'Number of Queries (Test)': num_queries_test,\n",
    "    'Best Hyperparameters': hyperparameters,\n",
    "    'Performance Metrics': performance_metrics\n",
    "}\n",
    "\n",
    "def format_dict(data):\n",
    "    if isinstance(data, dict):\n",
    "        return '\\n'.join([f\"{key}: {value}\" for key, value in data.items()])\n",
    "    return str(data)\n",
    "\n",
    "# Create the content for the text file\n",
    "content = \"\\n\\n\".join([f\"{key}:\\n{format_dict(value)}\" for key, value in data.items()])\n",
    "\n",
    "# Define the text file name\n",
    "text_file_path = '../docs/model_metrics.txt'\n",
    "\n",
    "# Write the content to the text file\n",
    "with open(text_file_path, 'w') as file:\n",
    "    file.write(content)\n",
    "\n",
    "print(f\"Model metrics have been written to {text_file_path}\")"
   ]
  },
  {
   "cell_type": "code",
   "execution_count": null,
   "metadata": {},
   "outputs": [],
   "source": []
  }
 ],
 "metadata": {
  "kernelspec": {
   "display_name": "chatbot",
   "language": "python",
   "name": "python3"
  },
  "language_info": {
   "codemirror_mode": {
    "name": "ipython",
    "version": 3
   },
   "file_extension": ".py",
   "mimetype": "text/x-python",
   "name": "python",
   "nbconvert_exporter": "python",
   "pygments_lexer": "ipython3",
   "version": "3.9.13"
  }
 },
 "nbformat": 4,
 "nbformat_minor": 2
}
